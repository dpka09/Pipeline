{
 "cells": [
  {
   "cell_type": "code",
   "execution_count": 1,
   "id": "19820ab9",
   "metadata": {},
   "outputs": [],
   "source": [
    "import findspark\n",
    "findspark.init()"
   ]
  },
  {
   "cell_type": "code",
   "execution_count": 2,
   "id": "c1a337a9",
   "metadata": {},
   "outputs": [],
   "source": [
    "from pyspark import SparkContext, SQLContext, SparkConf"
   ]
  },
  {
   "cell_type": "code",
   "execution_count": 3,
   "id": "96ac7f9c",
   "metadata": {},
   "outputs": [],
   "source": [
    "from pyspark.sql import SparkSession\n",
    "spark = SparkSession.builder.appName(\"test\").getOrCreate()"
   ]
  },
  {
   "cell_type": "code",
   "execution_count": 4,
   "id": "ce26e2b9",
   "metadata": {},
   "outputs": [],
   "source": [
    "from pyspark.sql.functions import *\n",
    "from pyspark.sql.types import *"
   ]
  },
  {
   "cell_type": "code",
   "execution_count": 5,
   "id": "4cf7ef7d",
   "metadata": {},
   "outputs": [],
   "source": [
    "restaurant_schema = StructType([\n",
    "    StructField('Restaurant_Name', StringType(), True),\n",
    "    StructField('City', StringType(), True),\n",
    "    StructField('Restaurant_ID', IntegerType(), False),\n",
    "    StructField('Has_Table_booking', StringType(), True),\n",
    "    StructField('Has_Online_delivery', StringType(), True),\n",
    "    StructField('Is_delivering_now', StringType(), True),\n",
    "    StructField('Country_Code', IntegerType(), False)\n",
    "            ])\n",
    "\n",
    "foods_schema = StructType([\n",
    "    StructField('Country_Code', IntegerType(), False),\n",
    "    StructField('Cuisine', StringType(), False),\n",
    "    StructField('Rating', FloatType(), False),\n",
    "    StructField('Rating_text', StringType(), False),\n",
    "    StructField('Votes', IntegerType(), False)\n",
    "    \n",
    "                          ])\n",
    "\n",
    "\n",
    "cost_schema = StructType([\n",
    "    StructField('Cost_per_person', IntegerType(), False),\n",
    "    StructField('Currency', StringType(), True),\n",
    "    StructField('Price_range', IntegerType(), False),\n",
    "    StructField('Country_Code', IntegerType(), False)\n",
    "                          ])\n",
    "\n",
    "country_schema = StructType([\n",
    "    StructField('Country_Code', IntegerType(), False),\n",
    "    StructField('Country', StringType(), True),\n",
    "    StructField('Per_Capita_Income(USD)', IntegerType(), False)\n",
    "                ])\n",
    "\n",
    "cost_new_schema = StructType([\n",
    "    StructField('Cost_per_person', IntegerType(), False),\n",
    "    StructField('Currency', StringType(), True),\n",
    "    StructField('Price_range', IntegerType(), False),\n",
    "    StructField('Country_Code', IntegerType(), False),\n",
    "    StructField('Cost_USD', FloatType(), False)\n",
    "                    ])\n",
    "\n"
   ]
  },
  {
   "cell_type": "code",
   "execution_count": 6,
   "id": "5f41ba72",
   "metadata": {},
   "outputs": [],
   "source": [
    "Restaurant=spark.read.csv(\"hdfs://localhost:9000/fuse_project/Zomato_project/Restaurant.csv\", header=True, schema = restaurant_schema )\n",
    "Foods=spark.read.csv(\"hdfs://localhost:9000/fuse_project/Zomato_project/Foods.csv\", header=True, schema = foods_schema)\n",
    "Cost=spark.read.csv(\"hdfs://localhost:9000/fuse_project/Zomato_project/Cost.csv\", header=True, schema = cost_schema)\n",
    "Country=spark.read.csv(\"hdfs://localhost:9000/fuse_project/Zomato_project/Country.csv\" , header=True, schema = country_schema)\n",
    "Cost_new=spark.read.csv(\"hdfs://localhost:9000/fuse_project/Zomato_project/Cost_new.csv\" , header=True, schema = cost_new_schema)"
   ]
  },
  {
   "cell_type": "code",
   "execution_count": 7,
   "id": "5eb604a1",
   "metadata": {},
   "outputs": [
    {
     "name": "stdout",
     "output_type": "stream",
     "text": [
      "root\n",
      " |-- Restaurant_Name: string (nullable = true)\n",
      " |-- City: string (nullable = true)\n",
      " |-- Restaurant_ID: integer (nullable = true)\n",
      " |-- Has_Table_booking: string (nullable = true)\n",
      " |-- Has_Online_delivery: string (nullable = true)\n",
      " |-- Is_delivering_now: string (nullable = true)\n",
      " |-- Country_Code: integer (nullable = true)\n",
      "\n",
      "root\n",
      " |-- Country_Code: integer (nullable = true)\n",
      " |-- Cuisine: string (nullable = true)\n",
      " |-- Rating: float (nullable = true)\n",
      " |-- Rating_text: string (nullable = true)\n",
      " |-- Votes: integer (nullable = true)\n",
      "\n",
      "root\n",
      " |-- Cost_per_person: integer (nullable = true)\n",
      " |-- Currency: string (nullable = true)\n",
      " |-- Price_range: integer (nullable = true)\n",
      " |-- Country_Code: integer (nullable = true)\n",
      "\n",
      "root\n",
      " |-- Country_Code: integer (nullable = true)\n",
      " |-- Country: string (nullable = true)\n",
      " |-- Per_Capita_Income(USD): integer (nullable = true)\n",
      "\n",
      "root\n",
      " |-- Cost_per_person: integer (nullable = true)\n",
      " |-- Currency: string (nullable = true)\n",
      " |-- Price_range: integer (nullable = true)\n",
      " |-- Country_Code: integer (nullable = true)\n",
      " |-- Cost_USD: float (nullable = true)\n",
      "\n"
     ]
    }
   ],
   "source": [
    "Restaurant.printSchema()\n",
    "Foods.printSchema()\n",
    "Cost.printSchema()\n",
    "Country.printSchema()\n",
    "Cost_new.printSchema()\n"
   ]
  },
  {
   "cell_type": "code",
   "execution_count": 27,
   "id": "ec134e1b",
   "metadata": {},
   "outputs": [
    {
     "name": "stdout",
     "output_type": "stream",
     "text": [
      "+----------------------+----------------+-------------+-----------------+-------------------+-----------------+------------+\n",
      "|Restaurant_Name       |City            |Restaurant_ID|Has_Table_booking|Has_Online_delivery|Is_delivering_now|Country_Code|\n",
      "+----------------------+----------------+-------------+-----------------+-------------------+-----------------+------------+\n",
      "|Le Petit Souffle      |Makati City     |6317637      |Yes              |No                 |No               |162         |\n",
      "|Izakaya Kikufuji      |Makati City     |6304287      |Yes              |No                 |No               |162         |\n",
      "|Heat - Edsa Shangri-La|Mandaluyong City|6300002      |Yes              |No                 |No               |162         |\n",
      "|Ooma                  |Mandaluyong City|6318506      |No               |No                 |No               |162         |\n",
      "|Sambo Kojin           |Mandaluyong City|6314302      |Yes              |No                 |No               |162         |\n",
      "+----------------------+----------------+-------------+-----------------+-------------------+-----------------+------------+\n",
      "only showing top 5 rows\n",
      "\n",
      "+------------+------+-----------+-----+--------------------+\n",
      "|Country_Code|Rating|Rating_text|Votes|             Cuisine|\n",
      "+------------+------+-----------+-----+--------------------+\n",
      "|         162|   4.8|  Excellent|  314|[French,  Japanes...|\n",
      "|         162|   4.5|  Excellent|  591|          [Japanese]|\n",
      "|         162|   4.4|  Very Good|  270|[Seafood,  Asian,...|\n",
      "|         162|   4.9|  Excellent|  365|  [Japanese,  Sushi]|\n",
      "|         162|   4.8|  Excellent|  229| [Japanese,  Korean]|\n",
      "+------------+------+-----------+-----+--------------------+\n",
      "only showing top 5 rows\n",
      "\n",
      "+---------------+--------+-----------+------------+\n",
      "|Cost_per_person|Currency|Price_range|Country_Code|\n",
      "+---------------+--------+-----------+------------+\n",
      "|            550|     PHP|          3|         162|\n",
      "|            600|     PHP|          3|         162|\n",
      "|           2000|     PHP|          4|         162|\n",
      "|            750|     PHP|          4|         162|\n",
      "|            750|     PHP|          4|         162|\n",
      "+---------------+--------+-----------+------------+\n",
      "only showing top 5 rows\n",
      "\n",
      "+------------+--------------+----------------------+\n",
      "|Country_Code|       Country|Per_Capita_Income(USD)|\n",
      "+------------+--------------+----------------------+\n",
      "|           1|         India|                  2100|\n",
      "|          14|     Australia|                 62724|\n",
      "|          30|        Brazil|                 11100|\n",
      "|          37|        Canada|                 49222|\n",
      "|          94|     Indonesia|                  4450|\n",
      "|         148|   New Zealand|                 47499|\n",
      "|         162|   Phillipines|                  3160|\n",
      "|         166|         Qatar|                 59143|\n",
      "|         184|     Singapore|                 64103|\n",
      "|         189|  South Africa|                  7080|\n",
      "|         191|     Sri Lanka|                  4100|\n",
      "|         208|        Turkey|                 32278|\n",
      "|         214|           UAE|                 35171|\n",
      "|         215|United Kingdom|                 46344|\n",
      "|         216| United States|                 68309|\n",
      "+------------+--------------+----------------------+\n",
      "\n",
      "+---------------+--------+-----------+------------+---------+\n",
      "|Cost_per_person|Currency|Price_range|Country_Code| Cost_USD|\n",
      "+---------------+--------+-----------+------------+---------+\n",
      "|            550|     PHP|          3|         162|11.130291|\n",
      "|            600|     PHP|          3|         162|12.142136|\n",
      "|           2000|     PHP|          4|         162|40.473785|\n",
      "|            750|     PHP|          4|         162| 15.17767|\n",
      "|            750|     PHP|          4|         162| 15.17767|\n",
      "|            500|     PHP|          3|         162|10.118446|\n",
      "|           1000|     PHP|          4|         162|20.236893|\n",
      "|           1000|     PHP|          4|         162|20.236893|\n",
      "|           3000|     PHP|          4|         162| 60.71068|\n",
      "|            550|     PHP|          3|         162|11.130291|\n",
      "|            400|     PHP|          3|         162| 8.094757|\n",
      "|            450|     PHP|          3|         162| 9.106602|\n",
      "|            400|     PHP|          3|         162| 8.094757|\n",
      "|            500|     PHP|          3|         162|10.118446|\n",
      "|            350|     PHP|          3|         162|7.0829124|\n",
      "|            400|     PHP|          3|         162| 8.094757|\n",
      "|            425|     PHP|          3|         162| 8.600679|\n",
      "|            600|     PHP|          3|         162|12.142136|\n",
      "|            300|     PHP|          2|         162| 6.071068|\n",
      "|            750|     PHP|          4|         162| 15.17767|\n",
      "+---------------+--------+-----------+------------+---------+\n",
      "only showing top 20 rows\n",
      "\n"
     ]
    }
   ],
   "source": [
    "Restaurant.show(5, truncate=False)\n",
    "Foods.show(5)\n",
    "Cost.show(5)\n",
    "Country.show()\n",
    "Cost_new.show()"
   ]
  },
  {
   "cell_type": "markdown",
   "id": "b767d01a",
   "metadata": {},
   "source": [
    "\n",
    "# 1. Cities with maximum Restaurants"
   ]
  },
  {
   "cell_type": "code",
   "execution_count": 12,
   "id": "ecdf9151",
   "metadata": {},
   "outputs": [],
   "source": [
    "\n",
    "task1= Restaurant.groupBy(\"City\").count().sort(col(\"count\").desc())\n",
    "\n"
   ]
  },
  {
   "cell_type": "code",
   "execution_count": 13,
   "id": "df1d9934",
   "metadata": {},
   "outputs": [
    {
     "name": "stdout",
     "output_type": "stream",
     "text": [
      "+------------+-----+\n",
      "|        City|count|\n",
      "+------------+-----+\n",
      "|   New Delhi| 5473|\n",
      "|     Gurgaon| 1118|\n",
      "|       Noida| 1080|\n",
      "|   Faridabad|  251|\n",
      "|   Ghaziabad|   25|\n",
      "|    Amritsar|   21|\n",
      "|   Ahmedabad|   21|\n",
      "|Bhubaneshwar|   21|\n",
      "|     Lucknow|   21|\n",
      "|    Guwahati|   21|\n",
      "|  Manchester|   20|\n",
      "|    Vadodara|   20|\n",
      "|     Colombo|   20|\n",
      "|   Tampa Bay|   20|\n",
      "|   Bangalore|   20|\n",
      "|    Valdosta|   20|\n",
      "|     Chennai|   20|\n",
      "|       Kochi|   20|\n",
      "|    Savannah|   20|\n",
      "|    Auckland|   20|\n",
      "+------------+-----+\n",
      "only showing top 20 rows\n",
      "\n"
     ]
    }
   ],
   "source": [
    "task1.show()"
   ]
  },
  {
   "cell_type": "code",
   "execution_count": null,
   "id": "ae6a837b",
   "metadata": {},
   "outputs": [],
   "source": []
  },
  {
   "cell_type": "markdown",
   "id": "8bc42b9d",
   "metadata": {},
   "source": [
    "# 2. Which cuisine is famous in Ahmedabad city?"
   ]
  },
  {
   "cell_type": "code",
   "execution_count": 14,
   "id": "e0613f57",
   "metadata": {},
   "outputs": [],
   "source": [
    "task2= Restaurant.join(Foods, Restaurant.Country_Code== Foods.Country_Code,\"inner\").select(\"City\",\"Cuisine\",\"Rating_text\")"
   ]
  },
  {
   "cell_type": "code",
   "execution_count": 15,
   "id": "fbd7c948",
   "metadata": {},
   "outputs": [],
   "source": [
    "task21=task2.filter(task2.City==\"Ahmedabad\")"
   ]
  },
  {
   "cell_type": "code",
   "execution_count": 17,
   "id": "71b74d71",
   "metadata": {},
   "outputs": [
    {
     "name": "stdout",
     "output_type": "stream",
     "text": [
      "+---------+------------------------+-----------+\n",
      "|City     |Cuisine                 |Rating_text|\n",
      "+---------+------------------------+-----------+\n",
      "|Ahmedabad|[North Indian,  Mughlai]|Good       |\n",
      "|Ahmedabad|[North Indian,  Mughlai]|Good       |\n",
      "|Ahmedabad|[North Indian,  Mughlai]|Good       |\n",
      "|Ahmedabad|[North Indian,  Mughlai]|Good       |\n",
      "|Ahmedabad|[North Indian,  Mughlai]|Good       |\n",
      "|Ahmedabad|[North Indian,  Mughlai]|Good       |\n",
      "|Ahmedabad|[North Indian,  Mughlai]|Good       |\n",
      "|Ahmedabad|[North Indian,  Mughlai]|Good       |\n",
      "|Ahmedabad|[North Indian,  Mughlai]|Good       |\n",
      "|Ahmedabad|[North Indian,  Mughlai]|Good       |\n",
      "+---------+------------------------+-----------+\n",
      "only showing top 10 rows\n",
      "\n"
     ]
    }
   ],
   "source": [
    "task21.show(10,truncate=False)"
   ]
  },
  {
   "cell_type": "code",
   "execution_count": 22,
   "id": "fe5f870a",
   "metadata": {},
   "outputs": [],
   "source": [
    "task22 = task21.select(task21.City,explode(task21.Cuisine)).withColumnRenamed(\"col\",\"Cuisine\")\n",
    "#task22.show(10)"
   ]
  },
  {
   "cell_type": "code",
   "execution_count": 31,
   "id": "e45d6df8",
   "metadata": {},
   "outputs": [
    {
     "name": "stdout",
     "output_type": "stream",
     "text": [
      "+-------------+-----+\n",
      "|      Cuisine|count|\n",
      "+-------------+-----+\n",
      "| North Indian|62727|\n",
      "|      Chinese|39039|\n",
      "|    Fast Food|27384|\n",
      "| North Indian|20076|\n",
      "|      Chinese|17388|\n",
      "|      Mughlai|16275|\n",
      "|    Fast Food|13818|\n",
      "|       Bakery|12936|\n",
      "|         Cafe|11781|\n",
      "|      Italian|10605|\n",
      "|  Continental|10395|\n",
      "|     Desserts| 9786|\n",
      "| South Indian| 7749|\n",
      "|  Street Food| 6720|\n",
      "| South Indian| 5481|\n",
      "|       Mithai| 5166|\n",
      "|  Street Food| 4914|\n",
      "|  Continental| 4809|\n",
      "|      Mughlai| 4515|\n",
      "|        Pizza| 4389|\n",
      "+-------------+-----+\n",
      "only showing top 20 rows\n",
      "\n"
     ]
    }
   ],
   "source": [
    "task23=task22.groupBy(\"Cuisine\").count().distinct().sort(col(\"count\").desc()).show()\n"
   ]
  },
  {
   "cell_type": "code",
   "execution_count": 32,
   "id": "39802a30",
   "metadata": {},
   "outputs": [
    {
     "data": {
      "text/plain": [
       "pyspark.sql.dataframe.DataFrame"
      ]
     },
     "execution_count": 32,
     "metadata": {},
     "output_type": "execute_result"
    }
   ],
   "source": [
    "type(task22)"
   ]
  },
  {
   "cell_type": "markdown",
   "id": "a8c60062",
   "metadata": {},
   "source": [
    "OR"
   ]
  },
  {
   "cell_type": "code",
   "execution_count": 23,
   "id": "d3bb668a",
   "metadata": {},
   "outputs": [
    {
     "name": "stdout",
     "output_type": "stream",
     "text": [
      "+---------+--------------------+-----------+\n",
      "|     City|             Cuisine|Rating_text|\n",
      "+---------+--------------------+-----------+\n",
      "|Ahmedabad|[Cafe,  North Ind...|  Excellent|\n",
      "|Ahmedabad|[Cafe,  North Ind...|  Excellent|\n",
      "|Ahmedabad|[Cafe,  North Ind...|  Excellent|\n",
      "|Ahmedabad|[Cafe,  North Ind...|  Excellent|\n",
      "|Ahmedabad|[Cafe,  North Ind...|  Excellent|\n",
      "|Ahmedabad|[Cafe,  North Ind...|  Excellent|\n",
      "|Ahmedabad|[Cafe,  North Ind...|  Excellent|\n",
      "|Ahmedabad|[Cafe,  North Ind...|  Excellent|\n",
      "|Ahmedabad|[Cafe,  North Ind...|  Excellent|\n",
      "|Ahmedabad|[Cafe,  North Ind...|  Excellent|\n",
      "|Ahmedabad|[Cafe,  North Ind...|  Excellent|\n",
      "|Ahmedabad|[Cafe,  North Ind...|  Excellent|\n",
      "|Ahmedabad|[Cafe,  North Ind...|  Excellent|\n",
      "|Ahmedabad|[Cafe,  North Ind...|  Excellent|\n",
      "|Ahmedabad|[Cafe,  North Ind...|  Excellent|\n",
      "|Ahmedabad|[Cafe,  North Ind...|  Excellent|\n",
      "|Ahmedabad|[Cafe,  North Ind...|  Excellent|\n",
      "|Ahmedabad|[Cafe,  North Ind...|  Excellent|\n",
      "|Ahmedabad|[Cafe,  North Ind...|  Excellent|\n",
      "|Ahmedabad|[Cafe,  North Ind...|  Excellent|\n",
      "+---------+--------------------+-----------+\n",
      "only showing top 20 rows\n",
      "\n"
     ]
    }
   ],
   "source": [
    "task_22=task21.filter(task21.Rating_text == \"Excellent\")\n",
    "task_22.show()"
   ]
  },
  {
   "cell_type": "code",
   "execution_count": 24,
   "id": "22bee084",
   "metadata": {},
   "outputs": [
    {
     "name": "stdout",
     "output_type": "stream",
     "text": [
      "+--------------+-----+\n",
      "|       Cuisine|count|\n",
      "+--------------+-----+\n",
      "|  North Indian|  567|\n",
      "|   Continental|  378|\n",
      "|       Italian|  357|\n",
      "|  North Indian|  336|\n",
      "|       Chinese|  336|\n",
      "|      American|  273|\n",
      "|          Cafe|  252|\n",
      "| Mediterranean|  210|\n",
      "|   Continental|  210|\n",
      "|          Cafe|  210|\n",
      "|         Asian|  189|\n",
      "|     Fast Food|  168|\n",
      "|      European|  168|\n",
      "|       Italian|  147|\n",
      "|        Burger|  147|\n",
      "|     Ice Cream|  126|\n",
      "|       Mughlai|  126|\n",
      "|       Mexican|  105|\n",
      "|      Desserts|  105|\n",
      "|       Mexican|  105|\n",
      "+--------------+-----+\n",
      "only showing top 20 rows\n",
      "\n"
     ]
    }
   ],
   "source": [
    "task_23 = task_22.select(task_22.Rating_text,explode(task_22.Cuisine)).withColumnRenamed(\"col\",\"Cuisine\")\n",
    "task_23.groupBy(\"Cuisine\").count().sort(col(\"count\").desc()).show()"
   ]
  },
  {
   "cell_type": "code",
   "execution_count": null,
   "id": "3c418273",
   "metadata": {},
   "outputs": [],
   "source": []
  },
  {
   "cell_type": "markdown",
   "id": "65094bd7",
   "metadata": {},
   "source": [
    "# 3.how per capita income affects food ordering behaviour?"
   ]
  },
  {
   "cell_type": "code",
   "execution_count": 25,
   "id": "a6507252",
   "metadata": {},
   "outputs": [
    {
     "name": "stdout",
     "output_type": "stream",
     "text": [
      "+------------+------+-----------+-----+--------------------+-----------+----------------------+\n",
      "|Country_Code|Rating|Rating_text|Votes|             Cuisine|    Country|Per_Capita_Income(USD)|\n",
      "+------------+------+-----------+-----+--------------------+-----------+----------------------+\n",
      "|         162|   4.8|  Excellent|  314|[French,  Japanes...|Phillipines|                  3160|\n",
      "|         162|   4.5|  Excellent|  591|          [Japanese]|Phillipines|                  3160|\n",
      "|         162|   4.4|  Very Good|  270|[Seafood,  Asian,...|Phillipines|                  3160|\n",
      "|         162|   4.9|  Excellent|  365|  [Japanese,  Sushi]|Phillipines|                  3160|\n",
      "|         162|   4.8|  Excellent|  229| [Japanese,  Korean]|Phillipines|                  3160|\n",
      "|         162|   4.4|  Very Good|  336|           [Chinese]|Phillipines|                  3160|\n",
      "|         162|   4.0|  Very Good|  520|  [Asian,  European]|Phillipines|                  3160|\n",
      "|         162|   4.2|  Very Good|  677|[Seafood,  Filipi...|Phillipines|                  3160|\n",
      "|         162|   4.9|  Excellent|  621|[European,  Asian...|Phillipines|                  3160|\n",
      "|         162|   4.8|  Excellent|  532|          [Filipino]|Phillipines|                  3160|\n",
      "|         162|   4.9|  Excellent| 1070|[Filipino,  Mexican]|Phillipines|                  3160|\n",
      "|         162|   4.2|  Very Good|  488|[American,  Ice C...|Phillipines|                  3160|\n",
      "|         162|   4.8|  Excellent|  294|[Filipino,  Mexican]|Phillipines|                  3160|\n",
      "|         162|   4.2|  Very Good|  458|          [Filipino]|Phillipines|                  3160|\n",
      "|         162|   4.3|  Very Good|  223|            [Korean]|Phillipines|                  3160|\n",
      "|         162|   3.6|       Good|   29|[Cafe,  American,...|Phillipines|                  3160|\n",
      "|         162|   4.0|  Very Good|   72|   [Italian,  Pizza]|Phillipines|                  3160|\n",
      "|         162|   4.5|  Excellent|  211|          [Filipino]|Phillipines|                  3160|\n",
      "|         162|   4.5|  Excellent|  118|[Cafe,  Korean,  ...|Phillipines|                  3160|\n",
      "|         162|   4.4|  Very Good|  392|[Cafe,  Bakery,  ...|Phillipines|                  3160|\n",
      "+------------+------+-----------+-----+--------------------+-----------+----------------------+\n",
      "only showing top 20 rows\n",
      "\n"
     ]
    }
   ],
   "source": [
    "task3= Foods.join(Country,\"Country_Code\",\"inner\")\n",
    "task3.show()"
   ]
  },
  {
   "cell_type": "code",
   "execution_count": 26,
   "id": "ce2ab27c",
   "metadata": {},
   "outputs": [
    {
     "name": "stdout",
     "output_type": "stream",
     "text": [
      "+---------------------------+---------------------------+\n",
      "|max(Per_Capita_Income(USD))|min(Per_Capita_Income(USD))|\n",
      "+---------------------------+---------------------------+\n",
      "|                      68309|                       2100|\n",
      "+---------------------------+---------------------------+\n",
      "\n"
     ]
    }
   ],
   "source": [
    "task31= Country.select(max(\"Per_Capita_Income(USD)\"), min(\"Per_Capita_Income(USD)\")).show()"
   ]
  },
  {
   "cell_type": "raw",
   "id": "7495aca9",
   "metadata": {},
   "source": [
    "                                                                                                                       Analysing behaviour of customers having high per capita income i.e 68309, what kind of foods do they order"
   ]
  },
  {
   "cell_type": "code",
   "execution_count": null,
   "id": "76188d04",
   "metadata": {},
   "outputs": [],
   "source": []
  },
  {
   "cell_type": "code",
   "execution_count": 28,
   "id": "39cd1ddc",
   "metadata": {},
   "outputs": [],
   "source": [
    "task3= task3.withColumnRenamed(\"Per_Capita_Income(USD)\",\"PCI\")"
   ]
  },
  {
   "cell_type": "code",
   "execution_count": 30,
   "id": "6e22fe70",
   "metadata": {},
   "outputs": [],
   "source": [
    "#task3.show()"
   ]
  },
  {
   "cell_type": "code",
   "execution_count": 31,
   "id": "a2089844",
   "metadata": {},
   "outputs": [
    {
     "name": "stdout",
     "output_type": "stream",
     "text": [
      "+-------------+-----+------+--------------+\n",
      "|      Country|  PCI|Rating|       Cuisine|\n",
      "+-------------+-----+------+--------------+\n",
      "|United States|68309|   3.3|           BBQ|\n",
      "|United States|68309|   3.3|        Burger|\n",
      "|United States|68309|   3.3|       Seafood|\n",
      "|United States|68309|   3.3|      American|\n",
      "|United States|68309|   3.3|           BBQ|\n",
      "|United States|68309|   3.4|       Mexican|\n",
      "|United States|68309|   3.4|Coffee and Tea|\n",
      "|United States|68309|   3.4|      Sandwich|\n",
      "|United States|68309|   3.5|     Fast Food|\n",
      "|United States|68309|   3.9|         Asian|\n",
      "+-------------+-----+------+--------------+\n",
      "only showing top 10 rows\n",
      "\n"
     ]
    }
   ],
   "source": [
    "task33= task3.filter(task3.PCI==68309).select(task3.Country,task3.PCI,task3.Rating,explode(task3.Cuisine)).withColumnRenamed(\"col\",\"Cuisine\").show(10)\n"
   ]
  },
  {
   "cell_type": "code",
   "execution_count": null,
   "id": "41016513",
   "metadata": {},
   "outputs": [],
   "source": []
  },
  {
   "cell_type": "markdown",
   "id": "a6a8d883",
   "metadata": {},
   "source": [
    "# 4. Resturants with maximum ratings?"
   ]
  },
  {
   "cell_type": "code",
   "execution_count": 32,
   "id": "f141acab",
   "metadata": {},
   "outputs": [
    {
     "name": "stdout",
     "output_type": "stream",
     "text": [
      "+--------------------+------+-----------+\n",
      "|     Restaurant_Name|Rating|Rating_text|\n",
      "+--------------------+------+-----------+\n",
      "|The Food Hall by ...|   4.8|  Excellent|\n",
      "|      NIU by Vikings|   4.8|  Excellent|\n",
      "|Wildflour Cafe + ...|   4.8|  Excellent|\n",
      "|Hobing Korean Des...|   4.8|  Excellent|\n",
      "|          Balay Dako|   4.8|  Excellent|\n",
      "|Nonna's Pasta & P...|   4.8|  Excellent|\n",
      "|       Cafe Arabelle|   4.8|  Excellent|\n",
      "|Sodam Korean Rest...|   4.8|  Excellent|\n",
      "|          Guevarra's|   4.8|  Excellent|\n",
      "|    Silantro Fil-Mex|   4.8|  Excellent|\n",
      "|Mad Mark's Creame...|   4.8|  Excellent|\n",
      "|    Silantro Fil-Mex|   4.8|  Excellent|\n",
      "|            Locavore|   4.8|  Excellent|\n",
      "|Spiral - Sofitel ...|   4.8|  Excellent|\n",
      "|             Vikings|   4.8|  Excellent|\n",
      "|          Buffet 101|   4.8|  Excellent|\n",
      "|        Din Tai Fung|   4.8|  Excellent|\n",
      "|         Sambo Kojin|   4.8|  Excellent|\n",
      "|                Ooma|   4.8|  Excellent|\n",
      "|Heat - Edsa Shang...|   4.8|  Excellent|\n",
      "+--------------------+------+-----------+\n",
      "only showing top 20 rows\n",
      "\n"
     ]
    }
   ],
   "source": [
    "task4= Restaurant.join(Foods, \"Country_Code\",\"inner\").select(\"Restaurant_Name\",\"Rating\", \"Rating_text\")\n",
    "task4.show()"
   ]
  },
  {
   "cell_type": "code",
   "execution_count": 33,
   "id": "1b93f8f5",
   "metadata": {},
   "outputs": [],
   "source": [
    "task41=task4.filter(task4.Rating_text==\"Excellent\").distinct()"
   ]
  },
  {
   "cell_type": "code",
   "execution_count": 34,
   "id": "f6e296b1",
   "metadata": {},
   "outputs": [
    {
     "name": "stdout",
     "output_type": "stream",
     "text": [
      "36834\n",
      "+--------------------+------+-----------+\n",
      "|     Restaurant_Name|Rating|Rating_text|\n",
      "+--------------------+------+-----------+\n",
      "| Confeitaria Colombo|   4.6|  Excellent|\n",
      "|          BlackStone|   4.5|  Excellent|\n",
      "|      Lulu's Waikiki|   4.6|  Excellent|\n",
      "|HI Lite Bar & Lounge|   4.6|  Excellent|\n",
      "|Samurai Japanese ...|   4.6|  Excellent|\n",
      "|Goldy's Breakfast...|   4.6|  Excellent|\n",
      "|Theo Yianni's Aut...|   4.7|  Excellent|\n",
      "| The Olde Pink House|   4.7|  Excellent|\n",
      "|         Los Aztecas|   4.7|  Excellent|\n",
      "|        Jethro's BBQ|   4.7|  Excellent|\n",
      "|Chandlers Steakhouse|   4.7|  Excellent|\n",
      "|     Bait El Khetyar|   4.6|  Excellent|\n",
      "|        Baati Chokha|   4.9|  Excellent|\n",
      "|          Wow Noodle|   4.9|  Excellent|\n",
      "|Earthen Oven - Fo...|   4.9|  Excellent|\n",
      "|          Cafetorium|   4.9|  Excellent|\n",
      "|        366 Junction|   4.9|  Excellent|\n",
      "|        Chatori Gali|   4.9|  Excellent|\n",
      "|Ram Ram Ji Kachor...|   4.9|  Excellent|\n",
      "|          Dosa Plaza|   4.9|  Excellent|\n",
      "+--------------------+------+-----------+\n",
      "only showing top 20 rows\n",
      "\n"
     ]
    }
   ],
   "source": [
    "print(task41.count())\n",
    "task41.show()"
   ]
  },
  {
   "cell_type": "code",
   "execution_count": 44,
   "id": "ab80a155",
   "metadata": {},
   "outputs": [],
   "source": [
    "#task42=task41.select(\"Restaurant_Name\",task41.Rating.cast('float'))"
   ]
  },
  {
   "cell_type": "code",
   "execution_count": 35,
   "id": "0079f0bb",
   "metadata": {},
   "outputs": [
    {
     "name": "stdout",
     "output_type": "stream",
     "text": [
      "+--------------------+------+-----------+\n",
      "|     Restaurant_Name|Rating|Rating_text|\n",
      "+--------------------+------+-----------+\n",
      "|        Baati Chokha|   4.9|  Excellent|\n",
      "|          Wow Noodle|   4.9|  Excellent|\n",
      "|Earthen Oven - Fo...|   4.9|  Excellent|\n",
      "|          Cafetorium|   4.9|  Excellent|\n",
      "|        366 Junction|   4.9|  Excellent|\n",
      "|        Chatori Gali|   4.9|  Excellent|\n",
      "|Ram Ram Ji Kachor...|   4.9|  Excellent|\n",
      "|          Dosa Plaza|   4.9|  Excellent|\n",
      "|      Sugary Affairs|   4.9|  Excellent|\n",
      "|   High Street Cafí©|   4.9|  Excellent|\n",
      "|WTF - Wraps Toast...|   4.9|  Excellent|\n",
      "|           Mafia 2.0|   4.9|  Excellent|\n",
      "|              Barkat|   4.9|  Excellent|\n",
      "|          Jeet Pizza|   4.9|  Excellent|\n",
      "|  New Lazeez Tandoor|   4.9|  Excellent|\n",
      "|        The Bay Leaf|   4.9|  Excellent|\n",
      "|             Just In|   4.9|  Excellent|\n",
      "| King Chilly Kitchen|   4.9|  Excellent|\n",
      "|   Shanu's Food Shop|   4.9|  Excellent|\n",
      "|       Mahadev Dhaba|   4.9|  Excellent|\n",
      "+--------------------+------+-----------+\n",
      "only showing top 20 rows\n",
      "\n"
     ]
    }
   ],
   "source": [
    "task42=task41.filter(task41.Rating >= 4.9).distinct().show()"
   ]
  },
  {
   "cell_type": "code",
   "execution_count": null,
   "id": "50cc48fa",
   "metadata": {},
   "outputs": [],
   "source": []
  },
  {
   "cell_type": "markdown",
   "id": "f018c8fc",
   "metadata": {},
   "source": [
    "# 5. How votes affects the price range ?"
   ]
  },
  {
   "cell_type": "code",
   "execution_count": 36,
   "id": "60538dff",
   "metadata": {},
   "outputs": [
    {
     "name": "stdout",
     "output_type": "stream",
     "text": [
      "+------------+------+-----------+-----+--------------------+---------------+--------+-----------+\n",
      "|Country_Code|Rating|Rating_text|Votes|             Cuisine|Cost_per_person|Currency|Price_range|\n",
      "+------------+------+-----------+-----+--------------------+---------------+--------+-----------+\n",
      "|         162|   4.8|  Excellent|  314|[French,  Japanes...|            900|     PHP|          4|\n",
      "|         162|   4.8|  Excellent|  314|[French,  Japanes...|           1500|     PHP|          4|\n",
      "|         162|   4.8|  Excellent|  314|[French,  Japanes...|            750|     PHP|          4|\n",
      "|         162|   4.8|  Excellent|  314|[French,  Japanes...|            300|     PHP|          2|\n",
      "|         162|   4.8|  Excellent|  314|[French,  Japanes...|            600|     PHP|          3|\n",
      "|         162|   4.8|  Excellent|  314|[French,  Japanes...|            425|     PHP|          3|\n",
      "|         162|   4.8|  Excellent|  314|[French,  Japanes...|            400|     PHP|          3|\n",
      "|         162|   4.8|  Excellent|  314|[French,  Japanes...|            350|     PHP|          3|\n",
      "|         162|   4.8|  Excellent|  314|[French,  Japanes...|            500|     PHP|          3|\n",
      "|         162|   4.8|  Excellent|  314|[French,  Japanes...|            400|     PHP|          3|\n",
      "|         162|   4.8|  Excellent|  314|[French,  Japanes...|            450|     PHP|          3|\n",
      "|         162|   4.8|  Excellent|  314|[French,  Japanes...|            400|     PHP|          3|\n",
      "|         162|   4.8|  Excellent|  314|[French,  Japanes...|            550|     PHP|          3|\n",
      "|         162|   4.8|  Excellent|  314|[French,  Japanes...|           3000|     PHP|          4|\n",
      "|         162|   4.8|  Excellent|  314|[French,  Japanes...|           1000|     PHP|          4|\n",
      "|         162|   4.8|  Excellent|  314|[French,  Japanes...|           1000|     PHP|          4|\n",
      "|         162|   4.8|  Excellent|  314|[French,  Japanes...|            500|     PHP|          3|\n",
      "|         162|   4.8|  Excellent|  314|[French,  Japanes...|            750|     PHP|          4|\n",
      "|         162|   4.8|  Excellent|  314|[French,  Japanes...|            750|     PHP|          4|\n",
      "|         162|   4.8|  Excellent|  314|[French,  Japanes...|           2000|     PHP|          4|\n",
      "+------------+------+-----------+-----+--------------------+---------------+--------+-----------+\n",
      "only showing top 20 rows\n",
      "\n"
     ]
    }
   ],
   "source": [
    "task5= Foods.join(Cost, \"Country_Code\",\"inner\")\n",
    "task5.show()"
   ]
  },
  {
   "cell_type": "code",
   "execution_count": 47,
   "id": "3f57ba56",
   "metadata": {},
   "outputs": [],
   "source": [
    "#Cost=Cost.na.fill(value=0)"
   ]
  },
  {
   "cell_type": "code",
   "execution_count": 37,
   "id": "ac857875",
   "metadata": {},
   "outputs": [
    {
     "name": "stdout",
     "output_type": "stream",
     "text": [
      "root\n",
      " |-- Country_Code: integer (nullable = true)\n",
      " |-- Rating: float (nullable = true)\n",
      " |-- Rating_text: string (nullable = true)\n",
      " |-- Votes: integer (nullable = true)\n",
      " |-- Cuisine: array (nullable = true)\n",
      " |    |-- element: string (containsNull = true)\n",
      "\n"
     ]
    }
   ],
   "source": [
    "Foods.printSchema()"
   ]
  },
  {
   "cell_type": "code",
   "execution_count": 38,
   "id": "d1ef6592",
   "metadata": {},
   "outputs": [
    {
     "name": "stdout",
     "output_type": "stream",
     "text": [
      "+----------+----------+\n",
      "|max(Votes)|min(Votes)|\n",
      "+----------+----------+\n",
      "|     10934|         0|\n",
      "+----------+----------+\n",
      "\n"
     ]
    }
   ],
   "source": [
    "task51=task5.select(max(\"Votes\"), min(\"Votes\"))\n",
    "task51.show()"
   ]
  },
  {
   "cell_type": "code",
   "execution_count": 39,
   "id": "2bb96439",
   "metadata": {},
   "outputs": [],
   "source": [
    "task53=task5.filter(task5.Votes==10934).select(\"Votes\",\"Price_range\")"
   ]
  },
  {
   "cell_type": "code",
   "execution_count": 43,
   "id": "27cb8bab",
   "metadata": {},
   "outputs": [
    {
     "name": "stdout",
     "output_type": "stream",
     "text": [
      "+------------+------+-----------+-----+--------------------+---------------+--------+-----------+\n",
      "|Country_Code|Rating|Rating_text|Votes|             Cuisine|Cost_per_person|Currency|Price_range|\n",
      "+------------+------+-----------+-----+--------------------+---------------+--------+-----------+\n",
      "|           1|   3.4|    Average|  155|[North Indian,  C...|            700|     INR|          3|\n",
      "|           1|   3.4|    Average|  155|[North Indian,  C...|            750|     INR|          4|\n",
      "|           1|   3.4|    Average|  155|[North Indian,  C...|            300|     INR|          2|\n",
      "|           1|   3.4|    Average|  155|[North Indian,  C...|            200|     INR|          2|\n",
      "|           1|   3.4|    Average|  155|[North Indian,  C...|            300|     INR|          2|\n",
      "|           1|   3.4|    Average|  155|[North Indian,  C...|            225|     INR|          2|\n",
      "|           1|   3.4|    Average|  155|[North Indian,  C...|            300|     INR|          2|\n",
      "|           1|   3.4|    Average|  155|[North Indian,  C...|            250|     INR|          2|\n",
      "|           1|   3.4|    Average|  155|[North Indian,  C...|            250|     INR|          2|\n",
      "|           1|   3.4|    Average|  155|[North Indian,  C...|            300|     INR|          2|\n",
      "|           1|   3.4|    Average|  155|[North Indian,  C...|            300|     INR|          2|\n",
      "|           1|   3.4|    Average|  155|[North Indian,  C...|            225|     INR|          2|\n",
      "|           1|   3.4|    Average|  155|[North Indian,  C...|            500|     INR|          3|\n",
      "|           1|   3.4|    Average|  155|[North Indian,  C...|            800|     INR|          4|\n",
      "|           1|   3.4|    Average|  155|[North Indian,  C...|            150|     INR|          1|\n",
      "|           1|   3.4|    Average|  155|[North Indian,  C...|            850|     INR|          4|\n",
      "|           1|   3.4|    Average|  155|[North Indian,  C...|            650|     INR|          3|\n",
      "|           1|   3.4|    Average|  155|[North Indian,  C...|            150|     INR|          1|\n",
      "|           1|   3.4|    Average|  155|[North Indian,  C...|            300|     INR|          2|\n",
      "|           1|   3.4|    Average|  155|[North Indian,  C...|            300|     INR|          2|\n",
      "+------------+------+-----------+-----+--------------------+---------------+--------+-----------+\n",
      "only showing top 20 rows\n",
      "\n"
     ]
    }
   ],
   "source": [
    "task53=task5.filter(task5.Votes==155).show()"
   ]
  },
  {
   "cell_type": "code",
   "execution_count": 55,
   "id": "274475f0",
   "metadata": {},
   "outputs": [
    {
     "name": "stdout",
     "output_type": "stream",
     "text": [
      "+-----+------+\n",
      "|Votes|Rating|\n",
      "+-----+------+\n",
      "|  788|   4.1|\n",
      "+-----+------+\n",
      "\n"
     ]
    }
   ],
   "source": [
    "task54=task.filter(task.Votes==788).distinct().show()"
   ]
  },
  {
   "cell_type": "code",
   "execution_count": 56,
   "id": "19ce823c",
   "metadata": {},
   "outputs": [
    {
     "name": "stdout",
     "output_type": "stream",
     "text": [
      "+-----+------+\n",
      "|Votes|Rating|\n",
      "+-----+------+\n",
      "|10934|   4.8|\n",
      "+-----+------+\n",
      "\n"
     ]
    }
   ],
   "source": [
    "task54=task.filter(task.Votes==10934).distinct().show()"
   ]
  },
  {
   "cell_type": "markdown",
   "id": "35f50540",
   "metadata": {},
   "source": [
    "# 6.Top 5 popular ratings per counts?"
   ]
  },
  {
   "cell_type": "code",
   "execution_count": 40,
   "id": "87b2039a",
   "metadata": {},
   "outputs": [
    {
     "name": "stdout",
     "output_type": "stream",
     "text": [
      "+------+-----+\n",
      "|Rating|count|\n",
      "+------+-----+\n",
      "|   0.0| 2148|\n",
      "|   3.2|  522|\n",
      "|   3.1|  519|\n",
      "|   3.4|  498|\n",
      "|   3.3|  483|\n",
      "+------+-----+\n",
      "only showing top 5 rows\n",
      "\n"
     ]
    }
   ],
   "source": [
    "task6=Foods.select(\"Rating\")\n",
    "#task6=task6.na.fill(0)\n",
    "task6= task6.filter(task6.Rating<=5.0).groupBy(\"Rating\").count().sort(col(\"count\").desc())\n",
    "task6.show(5)"
   ]
  },
  {
   "cell_type": "code",
   "execution_count": null,
   "id": "c128d8db",
   "metadata": {},
   "outputs": [],
   "source": []
  },
  {
   "cell_type": "markdown",
   "id": "b94e4252",
   "metadata": {},
   "source": [
    "\n",
    "# 7. How Table booking and  online delievery increases or decreases food ordering?"
   ]
  },
  {
   "cell_type": "code",
   "execution_count": 41,
   "id": "964ed7c5",
   "metadata": {
    "scrolled": true
   },
   "outputs": [
    {
     "name": "stdout",
     "output_type": "stream",
     "text": [
      "+--------------------+-----------------+-------------------+\n",
      "|             Cuisine|Has_Table_booking|Has_Online_delivery|\n",
      "+--------------------+-----------------+-------------------+\n",
      "|[French,  Japanes...|              Yes|                 No|\n",
      "|[French,  Japanes...|              Yes|                 No|\n",
      "|[French,  Japanes...|              Yes|                 No|\n",
      "|[French,  Japanes...|               No|                 No|\n",
      "|[French,  Japanes...|              Yes|                 No|\n",
      "|[French,  Japanes...|               No|                 No|\n",
      "|[French,  Japanes...|               No|                 No|\n",
      "|[French,  Japanes...|               No|                 No|\n",
      "|[French,  Japanes...|              Yes|                 No|\n",
      "|[French,  Japanes...|               No|                 No|\n",
      "|[French,  Japanes...|              Yes|                 No|\n",
      "|[French,  Japanes...|               No|                 No|\n",
      "|[French,  Japanes...|              Yes|                 No|\n",
      "|[French,  Japanes...|              Yes|                 No|\n",
      "|[French,  Japanes...|              Yes|                 No|\n",
      "|[French,  Japanes...|              Yes|                 No|\n",
      "|[French,  Japanes...|               No|                 No|\n",
      "|[French,  Japanes...|              Yes|                 No|\n",
      "|[French,  Japanes...|               No|                 No|\n",
      "|[French,  Japanes...|              Yes|                 No|\n",
      "+--------------------+-----------------+-------------------+\n",
      "only showing top 20 rows\n",
      "\n"
     ]
    }
   ],
   "source": [
    "task7= Restaurant.join(Foods, \"Country_Code\", \"inner\").select(\"Cuisine\", \"Has_Table_booking\",\"Has_Online_delivery\")\n",
    "task7.show()"
   ]
  },
  {
   "cell_type": "code",
   "execution_count": 43,
   "id": "8bd57d81",
   "metadata": {},
   "outputs": [],
   "source": [
    "task71= task7.filter(task7.Has_Table_booking == \"Yes\").groupBy(\"Has_Table_booking\").count()\n",
    "#task71=task71.select(\"Has_Table_booking\",\"count\").withColumnRenamed(\"Has_Table_booking\", \"Has_Table_booking_Yes\")\n",
    "task72= task7.filter(task7.Has_Table_booking == \"No\").groupBy(\"Has_Table_booking\").count()\n",
    "#task72=task72.select(\"Has_Table_booking\",\"count\").withColumnRenamed(\"Has_Table_booking\", \"Has_Table_booking_No\")\n",
    "task73= task7.filter(task7.Has_Online_delivery == \"Yes\").groupBy(\"Has_Online_delivery\").count()\n",
    "task74= task7.filter(task7.Has_Online_delivery == \"No\").groupBy(\"Has_Online_delivery\").count()\n"
   ]
  },
  {
   "cell_type": "code",
   "execution_count": 44,
   "id": "cf540742",
   "metadata": {},
   "outputs": [
    {
     "name": "stdout",
     "output_type": "stream",
     "text": [
      "+-----------------+--------+\n",
      "|Has_Table_booking|   count|\n",
      "+-----------------+--------+\n",
      "|              Yes| 9614860|\n",
      "|               No|65453273|\n",
      "+-----------------+--------+\n",
      "\n",
      "+-------------------+--------+\n",
      "|Has_Online_delivery|   count|\n",
      "+-------------------+--------+\n",
      "|                Yes|20965476|\n",
      "|                 No|54102657|\n",
      "+-------------------+--------+\n",
      "\n"
     ]
    }
   ],
   "source": [
    "task99= task71.union(task72).show()\n",
    "task999=task73.union(task74).show()"
   ]
  },
  {
   "cell_type": "code",
   "execution_count": 40,
   "id": "bfdee00d",
   "metadata": {},
   "outputs": [
    {
     "name": "stdout",
     "output_type": "stream",
     "text": [
      "+-----------------+--------+-------------------+--------+\n",
      "|Has_Table_booking|   count|Has_Online_delivery|   count|\n",
      "+-----------------+--------+-------------------+--------+\n",
      "|              Yes| 9614860|                Yes|20965476|\n",
      "|              Yes| 9614860|                 No|54102657|\n",
      "|               No|65453273|                Yes|20965476|\n",
      "|               No|65453273|                 No|54102657|\n",
      "+-----------------+--------+-------------------+--------+\n",
      "\n"
     ]
    }
   ],
   "source": [
    "task75=task99.join(task999).show()"
   ]
  },
  {
   "cell_type": "code",
   "execution_count": 33,
   "id": "4eb7c1e5",
   "metadata": {},
   "outputs": [
    {
     "name": "stdout",
     "output_type": "stream",
     "text": [
      "+---------------------+-------+--------------------+--------+\n",
      "|Has_Table_booking_Yes|  count|Has_Table_booking_No|   count|\n",
      "+---------------------+-------+--------------------+--------+\n",
      "|                  Yes|9614860|                  No|65453273|\n",
      "+---------------------+-------+--------------------+--------+\n",
      "\n"
     ]
    }
   ],
   "source": [
    "task75=task71.join(task72).show()"
   ]
  },
  {
   "cell_type": "code",
   "execution_count": null,
   "id": "0cbe8ba9",
   "metadata": {},
   "outputs": [],
   "source": []
  },
  {
   "cell_type": "code",
   "execution_count": 59,
   "id": "ec0df4b1",
   "metadata": {},
   "outputs": [
    {
     "name": "stdout",
     "output_type": "stream",
     "text": [
      "+-----------------+-------------------------------------------------------------------+------+\n",
      "|Has_Table_booking|Cuisine                                                            |count |\n",
      "+-----------------+-------------------------------------------------------------------+------+\n",
      "|Yes              |[Chinese,  North Indian,  Italian]                                 |4444  |\n",
      "|Yes              |[British,  Chinese,  Italian]                                      |1111  |\n",
      "|Yes              |[North Indian,  Mediterranean,  Continental]                       |2222  |\n",
      "|Yes              |[Nepalese,  Tibetan]                                               |1111  |\n",
      "|Yes              |[Japanese,  Chinese]                                               |1111  |\n",
      "|Yes              |[Cafe,  Continental,  Italian,  Chinese,  North Indian]            |1111  |\n",
      "|Yes              |[Cafe,  Mexican,  Italian,  North Indian,  Chinese]                |1111  |\n",
      "|Yes              |[North Indian,  South Indian,  Fast Food,  Street Food,  Mithai]   |2222  |\n",
      "|Yes              |[Italian,  Chinese,  Mexican,  Thai,  North Indian]                |1111  |\n",
      "|Yes              |[Kerala,  South Indian,  Chinese,  Biryani]                        |1111  |\n",
      "|Yes              |[North Indian,  European,  Asian]                                  |1111  |\n",
      "|Yes              |[South Indian,  Chinese,  Street Food,  Mithai]                    |1111  |\n",
      "|Yes              |[Pizza,  North Indian]                                             |1111  |\n",
      "|Yes              |[South Indian,  North Indian,  Chinese,  Continental]              |1111  |\n",
      "|Yes              |[North Indian,  Hyderabadi]                                        |1111  |\n",
      "|Yes              |[Cafe,  Lebanese,  Italian]                                        |1111  |\n",
      "|Yes              |[Bakery,  Desserts,  Fast Food,  Pizza,  Burger,  Continental]     |1111  |\n",
      "|Yes              |[Sushi,  Japanese,  Healthy Food]                                  |1111  |\n",
      "|Yes              |[Hyderabadi,  Biryani,  North Indian]                              |1111  |\n",
      "|Yes              |[Italian,  Continental,  Chinese,  Mexican]                        |1111  |\n",
      "|Yes              |[Seafood,  Asian,  Grill,  Sushi]                                  |2     |\n",
      "|Yes              |[Fast Food,  Beverages]                                            |48884 |\n",
      "|Yes              |[Continental,  North Indian,  Chinese,  Arabian,  Thai]            |1111  |\n",
      "|Yes              |[American,  Fast Food,  Desserts]                                  |1111  |\n",
      "|Yes              |[Chinese,  Healthy Food]                                           |1111  |\n",
      "|Yes              |[Bakery,  Desserts,  Ice Cream]                                    |1111  |\n",
      "|Yes              |[North Eastern,  North Indian,  Chinese]                           |1111  |\n",
      "|Yes              |[Cafe,  Grill]                                                     |2     |\n",
      "|Yes              |[Filipino]                                                         |42    |\n",
      "|Yes              |[Pakistani,  Indian]                                               |30    |\n",
      "|Yes              |[Bakery,  Desserts]                                                |188870|\n",
      "|Yes              |[Chinese,  Beverages]                                              |2222  |\n",
      "|Yes              |[Chinese,  Biryani,  North Indian]                                 |1111  |\n",
      "|Yes              |[Continental,  North Indian,  Finger Food]                         |1111  |\n",
      "|Yes              |[North Indian,  Street Food,  Fast Food]                           |3333  |\n",
      "|Yes              |[Fast Food,  Italian]                                              |7777  |\n",
      "|Yes              |[North Indian,  Mughlai,  Fast Food]                               |3333  |\n",
      "|Yes              |[Cafe,  American,  Italian,  North Indian,  Chinese]               |1111  |\n",
      "|Yes              |[Cafe,  Italian,  Pizza,  European,  Bakery,  Deli]                |2     |\n",
      "|Yes              |[Italian,  Mediterranean,  Sushi,  Desserts]                       |2     |\n",
      "|Yes              |[North Indian,  Mughlai,  Seafood]                                 |2222  |\n",
      "|Yes              |[Greek,  Mediterranean]                                            |1111  |\n",
      "|Yes              |[Street Food,  Chinese,  North Indian,  Mithai]                    |2222  |\n",
      "|Yes              |[North Indian,  Italian,  Mexican,  Chettinad,  Chinese,  Lebanese]|1111  |\n",
      "|Yes              |[Chinese,  Naga]                                                   |1111  |\n",
      "|Yes              |[Seafood,  Mughlai,  North Indian]                                 |1111  |\n",
      "|Yes              |[Healthy Food,  Continental,  Juices,  Salad]                      |2222  |\n",
      "|Yes              |[North Indian,  Mughlai,  Lebanese]                                |1111  |\n",
      "|Yes              |[Burger,  Grill]                                                   |12    |\n",
      "|Yes              |[Indian,  North Indian,  Chinese]                                  |36    |\n",
      "+-----------------+-------------------------------------------------------------------+------+\n",
      "only showing top 50 rows\n",
      "\n",
      "+-----------------+--------------------------------------------------------------------+-------+\n",
      "|Has_Table_booking|Cuisine                                                             |count  |\n",
      "+-----------------+--------------------------------------------------------------------+-------+\n",
      "|No               |[Hawaiian]                                                          |434    |\n",
      "|No               |[Indian,  Rajasthani]                                               |42     |\n",
      "|No               |[Indian,  Asian]                                                    |42     |\n",
      "|No               |[Chinese,  Seafood,  Japanese]                                      |22623  |\n",
      "|No               |[Cafe,  Coffee and Tea,  Western]                                   |21     |\n",
      "|No               |[North Indian,  Mughlai]                                            |2511153|\n",
      "|No               |[Seafood,  French]                                                  |7541   |\n",
      "|No               |[Mughlai,  Chinese]                                                 |45246  |\n",
      "|No               |[Finger Food,  North Indian,  Continental,  Italian,  Mediterranean]|7541   |\n",
      "|No               |[North Indian,  Fast Food,  Italian,  Asian]                        |22623  |\n",
      "|No               |[Continental,  Italian,  American,  North Indian]                   |7541   |\n",
      "|No               |[Cafe,  Coffee and Tea,  Sandwich]                                  |24     |\n",
      "|No               |[Fast Food,  Pizza]                                                 |75452  |\n",
      "|No               |[Italian,  Mexican,  Chinese,  Thai,  North Indian]                 |7541   |\n",
      "|No               |[Cafe,  Desserts]                                                   |60362  |\n",
      "|No               |[Continental,  Italian,  Mexican]                                   |7541   |\n",
      "|No               |[Tea]                                                               |45246  |\n",
      "|No               |[Chinese,  Continental]                                             |22623  |\n",
      "|No               |[Indian,  Street Food]                                              |155    |\n",
      "|No               |[American,  Chinese,  North Indian]                                 |20     |\n",
      "|No               |[Korean]                                                            |30193  |\n",
      "|No               |[Desserts,  Cafe]                                                   |15142  |\n",
      "|No               |[Breakfast,  Pizza]                                                 |434    |\n",
      "|No               |[American,  Seafood,  Southern]                                     |434    |\n",
      "|No               |[Italian,  French,  Bakery,  Cafe]                                  |20     |\n",
      "|No               |[Chinese,  Continental,  North Indian,  Mexican]                    |7541   |\n",
      "|No               |[Healthy Food,  Cafe,  Desserts,  Italian,  Bakery]                 |7541   |\n",
      "|No               |[Mithai,  North Indian,  Chinese,  Street Food]                     |15082  |\n",
      "|No               |[Italian,  Continental,  Mexican,  Lebanese]                        |7541   |\n",
      "|No               |[North Indian,  Maharashtrian]                                      |15082  |\n",
      "|No               |[North Indian,  Street Food,  Mughlai]                              |7541   |\n",
      "|No               |[Chinese,  South Indian,  Fast Food]                                |30164  |\n",
      "|No               |[Cafe,  Continental,  Italian,  North Indian]                       |15082  |\n",
      "|No               |[North Indian,  Street Food,  Chinese]                              |7541   |\n",
      "|No               |[North Indian,  South Indian,  Mithai]                              |7541   |\n",
      "|No               |[American,  Seafood,  Sushi]                                        |434    |\n",
      "|No               |[Cafe,  North Indian,  Chinese,  Continental]                       |15082  |\n",
      "|No               |[Mithai,  South Indian,  Chinese,  Street Food]                     |7541   |\n",
      "|No               |[Fast Food,  Cafe,  Desserts,  Bakery]                              |7541   |\n",
      "|No               |[Bakery,  Desserts,  Beverages]                                     |22623  |\n",
      "|No               |[Cafe,  Italian,  Continental]                                      |45246  |\n",
      "|No               |[Mughlai,  North Indian,  Bengali,  Continental]                    |7541   |\n",
      "|No               |[Arabian,  Mexican]                                                 |7541   |\n",
      "|No               |[Asian,  North Indian,  Mughlai]                                    |7541   |\n",
      "|No               |[Burger,  Seafood,  Steak]                                          |1302   |\n",
      "|No               |[Indian,  North Indian,  Street Food]                               |42     |\n",
      "|No               |[Parsi,  Iranian]                                                   |22623  |\n",
      "|No               |[North Indian,  Italian,  Finger Food]                              |7541   |\n",
      "|No               |[Kashmiri,  North Indian]                                           |7541   |\n",
      "|No               |[North Indian,  Mediterranean,  Asian]                              |22623  |\n",
      "+-----------------+--------------------------------------------------------------------+-------+\n",
      "only showing top 50 rows\n",
      "\n"
     ]
    }
   ],
   "source": [
    "task71= task7.filter(task7.Has_Table_booking == \"Yes\").groupBy(\"Has_Table_booking\",\"Cuisine\").count().show(50,truncate=False)\n",
    "task72= task7.filter(task7.Has_Table_booking == \"No\").groupBy(\"Has_Table_booking\",\"Cuisine\").count().show(50,truncate=False)"
   ]
  },
  {
   "cell_type": "code",
   "execution_count": null,
   "id": "11ba2da3",
   "metadata": {},
   "outputs": [],
   "source": []
  },
  {
   "cell_type": "code",
   "execution_count": 60,
   "id": "6284952d",
   "metadata": {},
   "outputs": [
    {
     "name": "stdout",
     "output_type": "stream",
     "text": [
      "+-------------------+-------------------------------------------------------------------+------+\n",
      "|Has_Online_delivery|Cuisine                                                            |count |\n",
      "+-------------------+-------------------------------------------------------------------+------+\n",
      "|Yes                |[Chinese,  North Indian,  Italian]                                 |9692  |\n",
      "|Yes                |[British,  Chinese,  Italian]                                      |2423  |\n",
      "|Yes                |[North Indian,  Mediterranean,  Continental]                       |4846  |\n",
      "|Yes                |[Nepalese,  Tibetan]                                               |2423  |\n",
      "|Yes                |[Japanese,  Chinese]                                               |2423  |\n",
      "|Yes                |[Cafe,  Continental,  Italian,  Chinese,  North Indian]            |2423  |\n",
      "|Yes                |[Cafe,  Mexican,  Italian,  North Indian,  Chinese]                |2423  |\n",
      "|Yes                |[North Indian,  South Indian,  Fast Food,  Street Food,  Mithai]   |4846  |\n",
      "|Yes                |[Italian,  Chinese,  Mexican,  Thai,  North Indian]                |2423  |\n",
      "|Yes                |[Kerala,  South Indian,  Chinese,  Biryani]                        |2423  |\n",
      "|Yes                |[North Indian,  European,  Asian]                                  |2423  |\n",
      "|Yes                |[South Indian,  Chinese,  Street Food,  Mithai]                    |2423  |\n",
      "|Yes                |[Pizza,  North Indian]                                             |2423  |\n",
      "|Yes                |[South Indian,  North Indian,  Chinese,  Continental]              |2423  |\n",
      "|Yes                |[North Indian,  Hyderabadi]                                        |2423  |\n",
      "|Yes                |[Cafe,  Lebanese,  Italian]                                        |2423  |\n",
      "|Yes                |[Bakery,  Desserts,  Fast Food,  Pizza,  Burger,  Continental]     |2423  |\n",
      "|Yes                |[Sushi,  Japanese,  Healthy Food]                                  |2423  |\n",
      "|Yes                |[Hyderabadi,  Biryani,  North Indian]                              |2423  |\n",
      "|Yes                |[Italian,  Continental,  Chinese,  Mexican]                        |2423  |\n",
      "|Yes                |[Fast Food,  Beverages]                                            |106612|\n",
      "|Yes                |[Continental,  North Indian,  Chinese,  Arabian,  Thai]            |2423  |\n",
      "|Yes                |[American,  Fast Food,  Desserts]                                  |2423  |\n",
      "|Yes                |[Chinese,  Healthy Food]                                           |2423  |\n",
      "|Yes                |[Bakery,  Desserts,  Ice Cream]                                    |2423  |\n",
      "|Yes                |[North Eastern,  North Indian,  Chinese]                           |2423  |\n",
      "|Yes                |[Pakistani,  Indian]                                               |28    |\n",
      "|Yes                |[Bakery,  Desserts]                                                |411910|\n",
      "|Yes                |[Chinese,  Beverages]                                              |4846  |\n",
      "|Yes                |[Chinese,  Biryani,  North Indian]                                 |2423  |\n",
      "|Yes                |[Continental,  North Indian,  Finger Food]                         |2423  |\n",
      "|Yes                |[North Indian,  Street Food,  Fast Food]                           |7269  |\n",
      "|Yes                |[Fast Food,  Italian]                                              |16961 |\n",
      "|Yes                |[North Indian,  Mughlai,  Fast Food]                               |7269  |\n",
      "|Yes                |[Cafe,  American,  Italian,  North Indian,  Chinese]               |2423  |\n",
      "|Yes                |[North Indian,  Mughlai,  Seafood]                                 |4846  |\n",
      "|Yes                |[Greek,  Mediterranean]                                            |2423  |\n",
      "|Yes                |[Street Food,  Chinese,  North Indian,  Mithai]                    |4846  |\n",
      "|Yes                |[North Indian,  Italian,  Mexican,  Chettinad,  Chinese,  Lebanese]|2423  |\n",
      "|Yes                |[Chinese,  Naga]                                                   |2423  |\n",
      "|Yes                |[Seafood,  Mughlai,  North Indian]                                 |2423  |\n",
      "|Yes                |[Healthy Food,  Continental,  Juices,  Salad]                      |4846  |\n",
      "|Yes                |[North Indian,  Mughlai,  Lebanese]                                |2423  |\n",
      "|Yes                |[Indian,  North Indian,  Chinese]                                  |56    |\n",
      "|Yes                |[Mexican,  American,  Tex-Mex,  Burger]                            |7269  |\n",
      "|Yes                |[Japanese,  Chinese,  Asian,  Malaysian,  Thai,  Vietnamese]       |4846  |\n",
      "|Yes                |[Lebanese,  North Indian]                                          |2423  |\n",
      "|Yes                |[North Indian,  Fast Food,  South Indian]                          |9692  |\n",
      "|Yes                |[North Indian,  Street Food,  Chinese,  South Indian,  Mithai]     |2423  |\n",
      "|Yes                |[Continental,  Asian,  Sushi]                                      |2423  |\n",
      "+-------------------+-------------------------------------------------------------------+------+\n",
      "only showing top 50 rows\n",
      "\n",
      "+-------------------+--------------------------------------------------------------------+-------+\n",
      "|Has_Online_delivery|Cuisine                                                             |count  |\n",
      "+-------------------+--------------------------------------------------------------------+-------+\n",
      "|No                 |[Hawaiian]                                                          |434    |\n",
      "|No                 |[Indian,  Rajasthani]                                               |32     |\n",
      "|No                 |[Indian,  Asian]                                                    |32     |\n",
      "|No                 |[Chinese,  Seafood,  Japanese]                                      |18687  |\n",
      "|No                 |[Cafe,  Coffee and Tea,  Western]                                   |21     |\n",
      "|No                 |[North Indian,  Mughlai]                                            |2074257|\n",
      "|No                 |[Seafood,  French]                                                  |6229   |\n",
      "|No                 |[Mughlai,  Chinese]                                                 |37374  |\n",
      "|No                 |[Finger Food,  North Indian,  Continental,  Italian,  Mediterranean]|6229   |\n",
      "|No                 |[North Indian,  Fast Food,  Italian,  Asian]                        |18687  |\n",
      "|No                 |[Continental,  Italian,  American,  North Indian]                   |6229   |\n",
      "|No                 |[Cafe,  Coffee and Tea,  Sandwich]                                  |24     |\n",
      "|No                 |[Fast Food,  Pizza]                                                 |62322  |\n",
      "|No                 |[Italian,  Mexican,  Chinese,  Thai,  North Indian]                 |6229   |\n",
      "|No                 |[Cafe,  Desserts]                                                   |49866  |\n",
      "|No                 |[Continental,  Italian,  Mexican]                                   |6229   |\n",
      "|No                 |[Tea]                                                               |37374  |\n",
      "|No                 |[Chinese,  Continental]                                             |18687  |\n",
      "|No                 |[Indian,  Street Food]                                              |180    |\n",
      "|No                 |[American,  Chinese,  North Indian]                                 |20     |\n",
      "|No                 |[Korean]                                                            |24959  |\n",
      "|No                 |[Desserts,  Cafe]                                                   |12518  |\n",
      "|No                 |[Breakfast,  Pizza]                                                 |434    |\n",
      "|No                 |[American,  Seafood,  Southern]                                     |434    |\n",
      "|No                 |[Italian,  French,  Bakery,  Cafe]                                  |20     |\n",
      "|No                 |[Chinese,  Continental,  North Indian,  Mexican]                    |6229   |\n",
      "|No                 |[Healthy Food,  Cafe,  Desserts,  Italian,  Bakery]                 |6229   |\n",
      "|No                 |[Mithai,  North Indian,  Chinese,  Street Food]                     |12458  |\n",
      "|No                 |[Italian,  Continental,  Mexican,  Lebanese]                        |6229   |\n",
      "|No                 |[North Indian,  Maharashtrian]                                      |12458  |\n",
      "|No                 |[North Indian,  Street Food,  Mughlai]                              |6229   |\n",
      "|No                 |[Chinese,  South Indian,  Fast Food]                                |24916  |\n",
      "|No                 |[Cafe,  Continental,  Italian,  North Indian]                       |12458  |\n",
      "|No                 |[North Indian,  Street Food,  Chinese]                              |6229   |\n",
      "|No                 |[North Indian,  South Indian,  Mithai]                              |6229   |\n",
      "|No                 |[American,  Seafood,  Sushi]                                        |434    |\n",
      "|No                 |[Cafe,  North Indian,  Chinese,  Continental]                       |12458  |\n",
      "|No                 |[Mithai,  South Indian,  Chinese,  Street Food]                     |6229   |\n",
      "|No                 |[Fast Food,  Cafe,  Desserts,  Bakery]                              |6229   |\n",
      "|No                 |[Bakery,  Desserts,  Beverages]                                     |18687  |\n",
      "|No                 |[Cafe,  Italian,  Continental]                                      |37374  |\n",
      "|No                 |[Mughlai,  North Indian,  Bengali,  Continental]                    |6229   |\n",
      "|No                 |[Arabian,  Mexican]                                                 |6229   |\n",
      "|No                 |[Asian,  North Indian,  Mughlai]                                    |6229   |\n",
      "|No                 |[Burger,  Seafood,  Steak]                                          |1302   |\n",
      "|No                 |[Indian,  North Indian,  Street Food]                               |32     |\n",
      "|No                 |[Parsi,  Iranian]                                                   |18687  |\n",
      "|No                 |[North Indian,  Italian,  Finger Food]                              |6229   |\n",
      "|No                 |[Kashmiri,  North Indian]                                           |6229   |\n",
      "|No                 |[North Indian,  Mediterranean,  Asian]                              |18687  |\n",
      "+-------------------+--------------------------------------------------------------------+-------+\n",
      "only showing top 50 rows\n",
      "\n"
     ]
    }
   ],
   "source": [
    "task73= task7.filter(task7.Has_Online_delivery == \"Yes\").groupBy(\"Has_Online_delivery\",\"Cuisine\").count().show(50,truncate=False)\n",
    "task74= task7.filter(task7.Has_Online_delivery == \"No\").groupBy(\"Has_Online_delivery\",\"Cuisine\").count().show(50,truncate=False)"
   ]
  },
  {
   "cell_type": "code",
   "execution_count": null,
   "id": "884a8b6c",
   "metadata": {},
   "outputs": [],
   "source": []
  },
  {
   "cell_type": "markdown",
   "id": "715b708d",
   "metadata": {},
   "source": [
    "# 8. Which is most liked table booking or online delievery?"
   ]
  },
  {
   "cell_type": "code",
   "execution_count": 45,
   "id": "223fa068",
   "metadata": {},
   "outputs": [],
   "source": [
    "task8= Restaurant.select(\"Has_Table_booking\",\"Has_Online_delivery\")"
   ]
  },
  {
   "cell_type": "code",
   "execution_count": 46,
   "id": "84130cce",
   "metadata": {},
   "outputs": [
    {
     "data": {
      "text/plain": [
       "435"
      ]
     },
     "execution_count": 46,
     "metadata": {},
     "output_type": "execute_result"
    }
   ],
   "source": [
    " task8.filter((task8.Has_Table_booking== \"Yes\") & (task8.Has_Online_delivery== \"Yes\")).count()"
   ]
  },
  {
   "cell_type": "code",
   "execution_count": 47,
   "id": "b04fe6d7",
   "metadata": {},
   "outputs": [
    {
     "name": "stdout",
     "output_type": "stream",
     "text": [
      "+-----------------+-----+\n",
      "|Has_Table_booking|count|\n",
      "+-----------------+-----+\n",
      "|              Yes| 1158|\n",
      "+-----------------+-----+\n",
      "\n"
     ]
    }
   ],
   "source": [
    "task81= task8.filter(task8.Has_Table_booking == \"Yes\").groupBy(\"Has_Table_booking\").count()\n",
    "task81.show()"
   ]
  },
  {
   "cell_type": "code",
   "execution_count": 48,
   "id": "a8aac57f",
   "metadata": {},
   "outputs": [
    {
     "name": "stdout",
     "output_type": "stream",
     "text": [
      "+-------------------+-----+\n",
      "|Has_Online_delivery|count|\n",
      "+-------------------+-----+\n",
      "|                Yes| 2451|\n",
      "+-------------------+-----+\n",
      "\n"
     ]
    }
   ],
   "source": [
    "task82= task8.filter(task8.Has_Online_delivery == \"Yes\").groupBy(\"Has_Online_delivery\").count()\n",
    "task82.show()"
   ]
  },
  {
   "cell_type": "code",
   "execution_count": 49,
   "id": "8014e439",
   "metadata": {},
   "outputs": [
    {
     "name": "stdout",
     "output_type": "stream",
     "text": [
      "+-----------------+-----+-------------------+-----+\n",
      "|Has_Table_booking|count|Has_Online_delivery|count|\n",
      "+-----------------+-----+-------------------+-----+\n",
      "|              Yes| 1158|                Yes| 2451|\n",
      "+-----------------+-----+-------------------+-----+\n",
      "\n"
     ]
    }
   ],
   "source": [
    "task83=task81.join(task82).show()"
   ]
  },
  {
   "cell_type": "code",
   "execution_count": 67,
   "id": "35e9cded",
   "metadata": {},
   "outputs": [
    {
     "data": {
      "text/plain": [
       "['Has_Table_booking', 'count']"
      ]
     },
     "execution_count": 67,
     "metadata": {},
     "output_type": "execute_result"
    }
   ],
   "source": [
    "task81.columns"
   ]
  },
  {
   "cell_type": "code",
   "execution_count": null,
   "id": "3890aa3b",
   "metadata": {},
   "outputs": [],
   "source": [
    "\n"
   ]
  },
  {
   "cell_type": "markdown",
   "id": "dfa81a00",
   "metadata": {},
   "source": [
    "# 9. Display cuisine having price rating 2 and food rating above 4?"
   ]
  },
  {
   "cell_type": "code",
   "execution_count": 50,
   "id": "f40c7daf",
   "metadata": {},
   "outputs": [
    {
     "name": "stdout",
     "output_type": "stream",
     "text": [
      "+--------------------+-----------+------+\n",
      "|             Cuisine|Price_range|Rating|\n",
      "+--------------------+-----------+------+\n",
      "|[French,  Japanes...|          4|   4.8|\n",
      "|[French,  Japanes...|          4|   4.8|\n",
      "|[French,  Japanes...|          4|   4.8|\n",
      "|[French,  Japanes...|          2|   4.8|\n",
      "|[French,  Japanes...|          3|   4.8|\n",
      "+--------------------+-----------+------+\n",
      "only showing top 5 rows\n",
      "\n"
     ]
    }
   ],
   "source": [
    "task9= Foods.join(Cost, \"Country_Code\").select(\"Cuisine\",\"Price_range\",\"Rating\")\n",
    "task9.show(5)"
   ]
  },
  {
   "cell_type": "code",
   "execution_count": 52,
   "id": "1dc8c31d",
   "metadata": {},
   "outputs": [
    {
     "name": "stdout",
     "output_type": "stream",
     "text": [
      "+------+-----------+---------+\n",
      "|Rating|Price_range|  Cuisine|\n",
      "+------+-----------+---------+\n",
      "|   4.8|          4|   French|\n",
      "|   4.8|          4| Japanese|\n",
      "|   4.8|          4| Desserts|\n",
      "|   4.8|          4|   French|\n",
      "|   4.8|          4| Japanese|\n",
      "|   4.8|          4| Desserts|\n",
      "|   4.8|          4|   French|\n",
      "|   4.8|          4| Japanese|\n",
      "|   4.8|          4| Desserts|\n",
      "|   4.8|          2|   French|\n",
      "|   4.8|          2| Japanese|\n",
      "|   4.8|          2| Desserts|\n",
      "|   4.8|          3|   French|\n",
      "|   4.8|          3| Japanese|\n",
      "|   4.8|          3| Desserts|\n",
      "|   4.8|          3|   French|\n",
      "|   4.8|          3| Japanese|\n",
      "|   4.8|          3| Desserts|\n",
      "|   4.8|          3|   French|\n",
      "|   4.8|          3| Japanese|\n",
      "+------+-----------+---------+\n",
      "only showing top 20 rows\n",
      "\n"
     ]
    }
   ],
   "source": [
    "task92= task9.select(\"Rating\",\"Price_range\",explode(task9.Cuisine)).withColumnRenamed(\"col\",\"Cuisine\")\n",
    "task92.show()"
   ]
  },
  {
   "cell_type": "code",
   "execution_count": 54,
   "id": "b28dc8a9",
   "metadata": {},
   "outputs": [
    {
     "name": "stdout",
     "output_type": "stream",
     "text": [
      "+------+-----------+----------+\n",
      "|Rating|Price_range|Cuisine   |\n",
      "+------+-----------+----------+\n",
      "|4.8   |2          |French    |\n",
      "|4.8   |2          | Japanese |\n",
      "|4.8   |2          | Desserts |\n",
      "|4.5   |2          |Japanese  |\n",
      "|4.4   |2          |Seafood   |\n",
      "|4.4   |2          | Asian    |\n",
      "|4.4   |2          | Filipino |\n",
      "|4.4   |2          | Indian   |\n",
      "|4.9   |2          |Japanese  |\n",
      "|4.9   |2          | Sushi    |\n",
      "|4.8   |2          |Japanese  |\n",
      "|4.8   |2          | Korean   |\n",
      "|4.4   |2          |Chinese   |\n",
      "|4.2   |2          |Seafood   |\n",
      "|4.2   |2          | Filipino |\n",
      "|4.2   |2          | Asian    |\n",
      "|4.2   |2          | European |\n",
      "|4.9   |2          |European  |\n",
      "|4.9   |2          | Asian    |\n",
      "|4.9   |2          | Indian   |\n",
      "|4.8   |2          |Filipino  |\n",
      "|4.9   |2          |Filipino  |\n",
      "|4.9   |2          | Mexican  |\n",
      "|4.2   |2          |American  |\n",
      "|4.2   |2          | Ice Cream|\n",
      "+------+-----------+----------+\n",
      "only showing top 25 rows\n",
      "\n"
     ]
    }
   ],
   "source": [
    "task93= task92.filter((task92.Price_range==2)& (task92.Rating>4)).show(25, truncate= False)"
   ]
  },
  {
   "cell_type": "code",
   "execution_count": null,
   "id": "7cc17aad",
   "metadata": {},
   "outputs": [],
   "source": []
  },
  {
   "cell_type": "markdown",
   "id": "04792332",
   "metadata": {},
   "source": [
    "# 10. Count Resturants having no table booking and online delievery  but excellent ratings."
   ]
  },
  {
   "cell_type": "code",
   "execution_count": 55,
   "id": "d6eceaca",
   "metadata": {},
   "outputs": [
    {
     "name": "stdout",
     "output_type": "stream",
     "text": [
      "+------------+----------------+-----------+-------------+-----------------+-------------------+-----------------+------+-----------+-----+--------------------+\n",
      "|Country_Code| Restaurant_Name|       City|Restaurant_ID|Has_Table_booking|Has_Online_delivery|Is_delivering_now|Rating|Rating_text|Votes|             Cuisine|\n",
      "+------------+----------------+-----------+-------------+-----------------+-------------------+-----------------+------+-----------+-----+--------------------+\n",
      "|         162|Le Petit Souffle|Makati City|      6317637|              Yes|                 No|               No|   4.5|  Excellent|  618|[American,  Asian...|\n",
      "|         162|Le Petit Souffle|Makati City|      6317637|              Yes|                 No|               No|   4.7|  Excellent|  535|[Seafood,  Americ...|\n",
      "+------------+----------------+-----------+-------------+-----------------+-------------------+-----------------+------+-----------+-----+--------------------+\n",
      "only showing top 2 rows\n",
      "\n"
     ]
    }
   ],
   "source": [
    "task10= Restaurant.join(Foods, \"Country_Code\")\n",
    "task10.show(2)"
   ]
  },
  {
   "cell_type": "code",
   "execution_count": 56,
   "id": "ab4d4a76",
   "metadata": {},
   "outputs": [],
   "source": [
    "task11=task10.filter((task10.Has_Table_booking == \"No\") & (task10.Has_Online_delivery == \"No\") & (task10.Rating_text == \"Excellent\"))"
   ]
  },
  {
   "cell_type": "code",
   "execution_count": 58,
   "id": "1428af9b",
   "metadata": {},
   "outputs": [
    {
     "name": "stdout",
     "output_type": "stream",
     "text": [
      "+----------------------+\n",
      "|count(Restaurant_Name)|\n",
      "+----------------------+\n",
      "|                677551|\n",
      "+----------------------+\n",
      "\n"
     ]
    }
   ],
   "source": [
    "task12=task11.select(count(\"Restaurant_Name\")).show()"
   ]
  },
  {
   "cell_type": "markdown",
   "id": "84240501",
   "metadata": {},
   "source": [
    "# 11. Top 10 resturants according to their expensiveness / high price."
   ]
  },
  {
   "cell_type": "code",
   "execution_count": 75,
   "id": "3ad72960",
   "metadata": {},
   "outputs": [],
   "source": [
    "from currency_converter import CurrencyConverter\n",
    "cc= CurrencyConverter()"
   ]
  },
  {
   "cell_type": "code",
   "execution_count": 76,
   "id": "00e361e6",
   "metadata": {},
   "outputs": [
    {
     "name": "stdout",
     "output_type": "stream",
     "text": [
      "+---------------+--------+-----------+------------+---------+\n",
      "|Cost_per_person|Currency|Price_range|Country_Code| Cost_USD|\n",
      "+---------------+--------+-----------+------------+---------+\n",
      "|            550|     PHP|          3|         162|11.130291|\n",
      "|            600|     PHP|          3|         162|12.142136|\n",
      "|           2000|     PHP|          4|         162|40.473785|\n",
      "|            750|     PHP|          4|         162| 15.17767|\n",
      "|            750|     PHP|          4|         162| 15.17767|\n",
      "|            500|     PHP|          3|         162|10.118446|\n",
      "|           1000|     PHP|          4|         162|20.236893|\n",
      "|           1000|     PHP|          4|         162|20.236893|\n",
      "|           3000|     PHP|          4|         162| 60.71068|\n",
      "|            550|     PHP|          3|         162|11.130291|\n",
      "|            400|     PHP|          3|         162| 8.094757|\n",
      "|            450|     PHP|          3|         162| 9.106602|\n",
      "|            400|     PHP|          3|         162| 8.094757|\n",
      "|            500|     PHP|          3|         162|10.118446|\n",
      "|            350|     PHP|          3|         162|7.0829124|\n",
      "|            400|     PHP|          3|         162| 8.094757|\n",
      "|            425|     PHP|          3|         162| 8.600679|\n",
      "|            600|     PHP|          3|         162|12.142136|\n",
      "|            300|     PHP|          2|         162| 6.071068|\n",
      "|            750|     PHP|          4|         162| 15.17767|\n",
      "+---------------+--------+-----------+------------+---------+\n",
      "only showing top 20 rows\n",
      "\n"
     ]
    }
   ],
   "source": [
    "Cost_new=spark.read.csv(\"/home/deepika/Documents/Zomato_project/Cost_new.csv\", header= True, schema= cost_new_schema)\n",
    "Cost_new.show()"
   ]
  },
  {
   "cell_type": "code",
   "execution_count": 78,
   "id": "cf51c36d",
   "metadata": {},
   "outputs": [
    {
     "name": "stdout",
     "output_type": "stream",
     "text": [
      "+----------------+---------+\n",
      "| Restaurant_Name| Cost_USD|\n",
      "+----------------+---------+\n",
      "|Le Petit Souffle|18.213203|\n",
      "|Le Petit Souffle| 30.35534|\n",
      "|Le Petit Souffle| 15.17767|\n",
      "|Le Petit Souffle| 6.071068|\n",
      "|Le Petit Souffle|12.142136|\n",
      "|Le Petit Souffle| 8.600679|\n",
      "|Le Petit Souffle| 8.094757|\n",
      "|Le Petit Souffle|7.0829124|\n",
      "|Le Petit Souffle|10.118446|\n",
      "|Le Petit Souffle| 8.094757|\n",
      "|Le Petit Souffle| 9.106602|\n",
      "|Le Petit Souffle| 8.094757|\n",
      "|Le Petit Souffle|11.130291|\n",
      "|Le Petit Souffle| 60.71068|\n",
      "|Le Petit Souffle|20.236893|\n",
      "|Le Petit Souffle|20.236893|\n",
      "|Le Petit Souffle|10.118446|\n",
      "|Le Petit Souffle| 15.17767|\n",
      "|Le Petit Souffle| 15.17767|\n",
      "|Le Petit Souffle|40.473785|\n",
      "+----------------+---------+\n",
      "only showing top 20 rows\n",
      "\n"
     ]
    }
   ],
   "source": [
    "task11= Restaurant.join(Cost_new, \"Country_Code\").select(\"Restaurant_Name\",\"Cost_USD\")\n",
    "task111=task11.select(max(col(\"Cost_USD\"))).dropDuplicates()\n",
    "task11.show()"
   ]
  },
  {
   "cell_type": "markdown",
   "id": "ecb65ed8",
   "metadata": {},
   "source": [
    "\n",
    "# 12. Food rating and cost per person of countries having per capita income below 5000 "
   ]
  },
  {
   "cell_type": "code",
   "execution_count": 82,
   "id": "5a9f9b77",
   "metadata": {},
   "outputs": [
    {
     "data": {
      "text/plain": [
       "['Cost_per_person', 'Currency', 'Price_range', 'Country_Code', 'Cost_USD']"
      ]
     },
     "execution_count": 82,
     "metadata": {},
     "output_type": "execute_result"
    }
   ],
   "source": [
    "task11= Foods.join(Cost_new,\"Country_Code\").join(Country, \"Country_Code\")\n",
    "task11=task11.withColumnRenamed('Per_Capita_Income(USD)', \"PCI\")\n",
    "Cost_new.columns"
   ]
  },
  {
   "cell_type": "code",
   "execution_count": 87,
   "id": "6ac49944",
   "metadata": {},
   "outputs": [
    {
     "name": "stdout",
     "output_type": "stream",
     "text": [
      "+------+----------+----+\n",
      "|Rating|  Cost_USD| PCI|\n",
      "+------+----------+----+\n",
      "|   4.0|0.66943735|2100|\n",
      "|   4.3| 26.777494|2100|\n",
      "|   3.4| 2.3430307|2100|\n",
      "|   4.9| 18.744246|2100|\n",
      "|   4.9| 7.6985297|2100|\n",
      "|   4.9| 11.045716|2100|\n",
      "|   4.5| 23.430307|2100|\n",
      "|   3.1| 5.6902175|2100|\n",
      "|   3.1|   5.02078|2100|\n",
      "|   2.7| 14.058185|2100|\n",
      "|   2.0| 33.471867|2100|\n",
      "|   1.9|  6.359655|2100|\n",
      "|   3.9| 5.6735744|4450|\n",
      "|   4.9| 7.0829124|3160|\n",
      "|   4.2| 18.213203|3160|\n",
      "|   3.9|  4.016624|2100|\n",
      "|   3.4| 24.434464|2100|\n",
      "|   1.8| 5.6902175|2100|\n",
      "|   2.0| 43.513428|2100|\n",
      "|   2.3| 3.6819055|2100|\n",
      "+------+----------+----+\n",
      "only showing top 20 rows\n",
      "\n"
     ]
    }
   ],
   "source": [
    "task111= task11.select(\"Rating\", \"Cost_USD\",'PCI').filter(task11.PCI<5000).distinct().show()"
   ]
  },
  {
   "cell_type": "markdown",
   "id": "016b4004",
   "metadata": {},
   "source": []
  },
  {
   "cell_type": "markdown",
   "id": "63759fb5",
   "metadata": {},
   "source": [
    "# 13. Which location/ city in a country is most profitable (has high orders) ?"
   ]
  },
  {
   "cell_type": "code",
   "execution_count": 112,
   "id": "84129a0a",
   "metadata": {},
   "outputs": [
    {
     "data": {
      "text/plain": [
       "['Country_Code',\n",
       " 'Restaurant_Name',\n",
       " 'City',\n",
       " 'Restaurant_ID',\n",
       " 'Has_Table_booking',\n",
       " 'Has_Online_delivery',\n",
       " 'Is_delivering_now',\n",
       " 'Country',\n",
       " 'Per_Capita_Income(USD)']"
      ]
     },
     "execution_count": 112,
     "metadata": {},
     "output_type": "execute_result"
    }
   ],
   "source": [
    "task13= Restaurant.join(Country, \"Country_Code\")\n",
    "task13.columns"
   ]
  },
  {
   "cell_type": "code",
   "execution_count": 108,
   "id": "4f075273",
   "metadata": {},
   "outputs": [
    {
     "name": "stdout",
     "output_type": "stream",
     "text": [
      "+--------------------+---------+-----+\n",
      "|     Restaurant_Name|     City|count|\n",
      "+--------------------+---------+-----+\n",
      "|     Cafe Coffee Day|New Delhi|   57|\n",
      "|      Domino's Pizza|New Delhi|   55|\n",
      "|              Subway|New Delhi|   38|\n",
      "|    Green Chick Chop|New Delhi|   37|\n",
      "|          McDonald's|New Delhi|   33|\n",
      "|           Keventers|New Delhi|   24|\n",
      "|               Giani|New Delhi|   24|\n",
      "|             Giani's|New Delhi|   17|\n",
      "|          Wah Ji Wah|New Delhi|   14|\n",
      "|     Aggarwal Sweets|New Delhi|   14|\n",
      "|         Sagar Ratna|New Delhi|   13|\n",
      "|  Pizza Hut Delivery|New Delhi|   13|\n",
      "|     Cafe Coffee Day|    Noida|   13|\n",
      "|      Baskin Robbins|New Delhi|   13|\n",
      "| Republic of Chicken|New Delhi|   13|\n",
      "|   Twenty Four Seven|New Delhi|   13|\n",
      "|           Pizza Hut|New Delhi|   12|\n",
      "|34, Chowringhee Lane|New Delhi|   12|\n",
      "|      Domino's Pizza|    Noida|   11|\n",
      "|              Subway|  Gurgaon|   11|\n",
      "+--------------------+---------+-----+\n",
      "only showing top 20 rows\n",
      "\n"
     ]
    }
   ],
   "source": [
    "#task131= task13.select(\"Restaurant_Name\",\"City\",\"Country\").groupBy(\"Restaurant_Name\",\"City\").count().sort(col(\"count\").desc())\n",
    "#task131.show()"
   ]
  },
  {
   "cell_type": "code",
   "execution_count": 114,
   "id": "1d0f1d96",
   "metadata": {},
   "outputs": [
    {
     "name": "stdout",
     "output_type": "stream",
     "text": [
      "+------------+--------------------+----+-------------+-----------------+-------------------+-----------------+-------+----------------------+\n",
      "|Country_Code|     Restaurant_Name|City|Restaurant_ID|Has_Table_booking|Has_Online_delivery|Is_delivering_now|Country|Per_Capita_Income(USD)|\n",
      "+------------+--------------------+----+-------------+-----------------+-------------------+-----------------+-------+----------------------+\n",
      "|           1|          Jahanpanah|Agra|      3400025|               No|                 No|               No|  India|                  2100|\n",
      "|           1| Rangrezz Restaurant|Agra|      3400341|               No|                 No|               No|  India|                  2100|\n",
      "|           1|Time2Eat - Mama C...|Agra|      3400005|               No|                 No|               No|  India|                  2100|\n",
      "|           1|Chokho Jeeman Mar...|Agra|      3400021|               No|                 No|               No|  India|                  2100|\n",
      "|           1|      Pinch Of Spice|Agra|      3400017|               No|                 No|               No|  India|                  2100|\n",
      "+------------+--------------------+----+-------------+-----------------+-------------------+-----------------+-------+----------------------+\n",
      "only showing top 5 rows\n",
      "\n"
     ]
    }
   ],
   "source": [
    "task131= task13.filter(task13.Country==\"India\")\n",
    "task131.show(5)"
   ]
  },
  {
   "cell_type": "code",
   "execution_count": 116,
   "id": "380e9ec6",
   "metadata": {},
   "outputs": [],
   "source": [
    "task132= task131.groupBy(\"Restaurant_Name\",\"City\").count().sort(col(\"count\").desc())"
   ]
  },
  {
   "cell_type": "code",
   "execution_count": 117,
   "id": "91aafb8c",
   "metadata": {},
   "outputs": [
    {
     "name": "stdout",
     "output_type": "stream",
     "text": [
      "+--------------------+---------+-----+\n",
      "|     Restaurant_Name|     City|count|\n",
      "+--------------------+---------+-----+\n",
      "|     Cafe Coffee Day|New Delhi|   57|\n",
      "|      Domino's Pizza|New Delhi|   55|\n",
      "|              Subway|New Delhi|   38|\n",
      "|    Green Chick Chop|New Delhi|   37|\n",
      "|          McDonald's|New Delhi|   33|\n",
      "|           Keventers|New Delhi|   24|\n",
      "|               Giani|New Delhi|   24|\n",
      "|             Giani's|New Delhi|   17|\n",
      "|          Wah Ji Wah|New Delhi|   14|\n",
      "|     Aggarwal Sweets|New Delhi|   14|\n",
      "|         Sagar Ratna|New Delhi|   13|\n",
      "| Republic of Chicken|New Delhi|   13|\n",
      "|     Cafe Coffee Day|    Noida|   13|\n",
      "|  Pizza Hut Delivery|New Delhi|   13|\n",
      "|      Baskin Robbins|New Delhi|   13|\n",
      "|   Twenty Four Seven|New Delhi|   13|\n",
      "|           Pizza Hut|New Delhi|   12|\n",
      "|34, Chowringhee Lane|New Delhi|   12|\n",
      "|         Bikanervala|New Delhi|   11|\n",
      "|              Subway|  Gurgaon|   11|\n",
      "+--------------------+---------+-----+\n",
      "only showing top 20 rows\n",
      "\n"
     ]
    }
   ],
   "source": [
    "task132.show()"
   ]
  },
  {
   "cell_type": "code",
   "execution_count": 121,
   "id": "c03f2fe4",
   "metadata": {},
   "outputs": [
    {
     "name": "stdout",
     "output_type": "stream",
     "text": [
      "+---------+-----+\n",
      "|     City|count|\n",
      "+---------+-----+\n",
      "|Faridabad|    1|\n",
      "|    Noida|   13|\n",
      "|  Gurgaon|   11|\n",
      "|Ghaziabad|    1|\n",
      "|New Delhi|   57|\n",
      "+---------+-----+\n",
      "\n"
     ]
    }
   ],
   "source": [
    "task134= task131.filter(task131.Restaurant_Name == \"Cafe Coffee Day\").groupBy(\"City\").count()\n",
    "task134.show()"
   ]
  },
  {
   "cell_type": "code",
   "execution_count": null,
   "id": "b23c6408",
   "metadata": {},
   "outputs": [],
   "source": []
  },
  {
   "cell_type": "markdown",
   "id": "984ec749",
   "metadata": {},
   "source": [
    "# 14. Restaurants having most number of branches."
   ]
  },
  {
   "cell_type": "code",
   "execution_count": 122,
   "id": "fe5d76e0",
   "metadata": {},
   "outputs": [
    {
     "name": "stdout",
     "output_type": "stream",
     "text": [
      "+--------------------+---------+\n",
      "|     Restaurant_Name|     City|\n",
      "+--------------------+---------+\n",
      "|       5 Little Pigs|Huskisson|\n",
      "|               Gupha|Faridabad|\n",
      "|        Kebab Xpress|Ghaziabad|\n",
      "|    Fisherman's Cove|      Goa|\n",
      "|     Mahek By Greenz|  Gurgaon|\n",
      "|            Fruitpro|  Gurgaon|\n",
      "|          Apna Dabba|  Gurgaon|\n",
      "|Special O-cake-sions|  Gurgaon|\n",
      "|Hide Out The Stre...|   Nagpur|\n",
      "|           Banzara's|New Delhi|\n",
      "|      Chicken Vicken|New Delhi|\n",
      "|Game of Legends -...|New Delhi|\n",
      "|       The Night Owl|New Delhi|\n",
      "|          Al- Sheikh|New Delhi|\n",
      "|Singh Mutton & Ch...|New Delhi|\n",
      "|         Sona Bakers|New Delhi|\n",
      "|Shankar Chinese F...|New Delhi|\n",
      "|Uncultured Cafe &...|New Delhi|\n",
      "|Chicken Chilli Co...|New Delhi|\n",
      "|     Rai Ji Caterers|New Delhi|\n",
      "+--------------------+---------+\n",
      "only showing top 20 rows\n",
      "\n"
     ]
    }
   ],
   "source": [
    "task14= Restaurant.select(\"Restaurant_Name\",\"City\").distinct()\n",
    "task14.show()"
   ]
  },
  {
   "cell_type": "code",
   "execution_count": 123,
   "id": "3fd94859",
   "metadata": {},
   "outputs": [
    {
     "name": "stdout",
     "output_type": "stream",
     "text": [
      "+-----------------+-----+\n",
      "|  Restaurant_Name|count|\n",
      "+-----------------+-----+\n",
      "|  Barbeque Nation|   22|\n",
      "|        Pizza Hut|   12|\n",
      "|              KFC|    8|\n",
      "|The Yellow Chilli|    7|\n",
      "|            Mocha|    7|\n",
      "|       McDonald's|    7|\n",
      "|    Pind Balluchi|    7|\n",
      "|   Domino's Pizza|    7|\n",
      "|   Mainland China|    6|\n",
      "|     TGI Friday's|    6|\n",
      "|       Farzi Cafe|    6|\n",
      "|      Sagar Ratna|    5|\n",
      "|   Baskin Robbins|    5|\n",
      "|  Texas Roadhouse|    5|\n",
      "|           Subway|    5|\n",
      "|   Dunkin' Donuts|    5|\n",
      "|      Burger King|    5|\n",
      "|  Cafe Coffee Day|    5|\n",
      "|            Giani|    4|\n",
      "|        Keventers|    4|\n",
      "+-----------------+-----+\n",
      "only showing top 20 rows\n",
      "\n"
     ]
    }
   ],
   "source": [
    "task141= task14.groupBy(\"Restaurant_Name\").count().sort(col(\"count\").desc())\n",
    "task141.show()"
   ]
  },
  {
   "cell_type": "code",
   "execution_count": null,
   "id": "400c1f76",
   "metadata": {},
   "outputs": [],
   "source": []
  },
  {
   "cell_type": "code",
   "execution_count": null,
   "id": "5be574a7",
   "metadata": {},
   "outputs": [],
   "source": []
  },
  {
   "cell_type": "code",
   "execution_count": null,
   "id": "19a14c7a",
   "metadata": {},
   "outputs": [],
   "source": []
  },
  {
   "cell_type": "code",
   "execution_count": null,
   "id": "37934796",
   "metadata": {},
   "outputs": [],
   "source": []
  },
  {
   "cell_type": "code",
   "execution_count": null,
   "id": "195d0c32",
   "metadata": {},
   "outputs": [],
   "source": []
  },
  {
   "cell_type": "code",
   "execution_count": null,
   "id": "b1a761f9",
   "metadata": {},
   "outputs": [],
   "source": []
  },
  {
   "cell_type": "code",
   "execution_count": null,
   "id": "13b9d61a",
   "metadata": {},
   "outputs": [],
   "source": []
  },
  {
   "cell_type": "code",
   "execution_count": null,
   "id": "807e637d",
   "metadata": {},
   "outputs": [],
   "source": []
  },
  {
   "cell_type": "code",
   "execution_count": null,
   "id": "476a6548",
   "metadata": {},
   "outputs": [],
   "source": []
  },
  {
   "cell_type": "code",
   "execution_count": null,
   "id": "081103fe",
   "metadata": {},
   "outputs": [],
   "source": []
  },
  {
   "cell_type": "code",
   "execution_count": null,
   "id": "bb6853d7",
   "metadata": {},
   "outputs": [],
   "source": []
  },
  {
   "cell_type": "code",
   "execution_count": null,
   "id": "4bb68fc1",
   "metadata": {},
   "outputs": [],
   "source": []
  },
  {
   "cell_type": "code",
   "execution_count": null,
   "id": "e029946a",
   "metadata": {},
   "outputs": [],
   "source": []
  },
  {
   "cell_type": "code",
   "execution_count": null,
   "id": "b85b901b",
   "metadata": {},
   "outputs": [],
   "source": []
  },
  {
   "cell_type": "code",
   "execution_count": null,
   "id": "8d9cd3b2",
   "metadata": {},
   "outputs": [],
   "source": []
  },
  {
   "cell_type": "code",
   "execution_count": null,
   "id": "b780999d",
   "metadata": {},
   "outputs": [],
   "source": []
  },
  {
   "cell_type": "code",
   "execution_count": null,
   "id": "b27e36cb",
   "metadata": {},
   "outputs": [],
   "source": []
  },
  {
   "cell_type": "code",
   "execution_count": null,
   "id": "bfbde594",
   "metadata": {},
   "outputs": [],
   "source": []
  },
  {
   "cell_type": "code",
   "execution_count": null,
   "id": "0902c123",
   "metadata": {},
   "outputs": [],
   "source": []
  },
  {
   "cell_type": "code",
   "execution_count": null,
   "id": "dad409ad",
   "metadata": {},
   "outputs": [],
   "source": []
  },
  {
   "cell_type": "code",
   "execution_count": null,
   "id": "0f71f152",
   "metadata": {},
   "outputs": [],
   "source": []
  },
  {
   "cell_type": "code",
   "execution_count": null,
   "id": "d5c2f9b0",
   "metadata": {},
   "outputs": [],
   "source": []
  },
  {
   "cell_type": "code",
   "execution_count": null,
   "id": "ea4f1911",
   "metadata": {},
   "outputs": [],
   "source": []
  }
 ],
 "metadata": {
  "kernelspec": {
   "display_name": "Python 3",
   "language": "python",
   "name": "python3"
  },
  "language_info": {
   "codemirror_mode": {
    "name": "ipython",
    "version": 3
   },
   "file_extension": ".py",
   "mimetype": "text/x-python",
   "name": "python",
   "nbconvert_exporter": "python",
   "pygments_lexer": "ipython3",
   "version": "3.8.10"
  }
 },
 "nbformat": 4,
 "nbformat_minor": 5
}
